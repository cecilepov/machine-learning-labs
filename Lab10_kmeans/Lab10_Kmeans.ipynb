{
 "cells": [
  {
   "cell_type": "markdown",
   "metadata": {},
   "source": [
    "# Lab 10: K-means Clustering (Unsupervised Learning) \n",
    "\n",
    "In this session we will understand how K-means clustering algorithm works. It is an unsupervised learning algorithm that allows us to detect pattern or groups on unlabeled data. This algorithm starts with initializing a given number K of centroid and it assigns each point to the nearest centroid. After assigning all points, each centroid is updated as the centroid (mean) of points that have same label as the centroid. Then, we reassign points according to the new centroids. We repeat these steps until the algorithm converges and centroids become stable (don't move anymore).\n",
    "\n",
    "In the first part, we will implement the K-means algorithm. Then, we will see the effect of centroids initialization and how dramatically it could affect output clusters. In last part, we will see \"elbow\" method used for selecting a suitable number of cluster K to use."
   ]
  },
  {
   "cell_type": "markdown",
   "metadata": {},
   "source": [
    "## Preparation"
   ]
  },
  {
   "cell_type": "code",
   "execution_count": 1,
   "metadata": {},
   "outputs": [],
   "source": [
    "import numpy as np\n",
    "import matplotlib.pyplot as plt\n",
    "from sklearn.datasets.samples_generator import make_blobs\n",
    "from scipy.spatial import Voronoi, voronoi_plot_2d\n",
    "%matplotlib notebook"
   ]
  },
  {
   "cell_type": "markdown",
   "metadata": {},
   "source": [
    "## Part 1: Implement K-means"
   ]
  },
  {
   "cell_type": "markdown",
   "metadata": {},
   "source": [
    "**Question 1: **\n",
    "- Load data from \"clusters_3.txt\" file. (use [loadtxt](https://docs.scipy.org/doc/numpy-1.13.0/reference/generated/numpy.loadtxt.html) function from numpy library).\n",
    "- Create an array centroid of shape (3, 2) to initialize the 3 centroids with the **float** values (4,0), (4,3), (0,5)."
   ]
  },
  {
   "cell_type": "code",
   "execution_count": 2,
   "metadata": {},
   "outputs": [
    {
     "name": "stdout",
     "output_type": "stream",
     "text": [
      "The size of data is: (300, 2)\n"
     ]
    }
   ],
   "source": [
    "# load data\n",
    "# Type your code here\n",
    "X =  np.loadtxt(\"clusters_3.txt\")\n",
    "print(\"The size of data is:\",X.shape)"
   ]
  },
  {
   "cell_type": "code",
   "execution_count": 3,
   "metadata": {},
   "outputs": [
    {
     "data": {
      "text/plain": [
       "array([[ 1.84207953,  4.6075716 ],\n",
       "       [ 5.65858312,  4.79996405],\n",
       "       [ 6.35257892,  3.2908545 ],\n",
       "       [ 2.90401653,  4.61220411],\n",
       "       [ 3.23197916,  4.93989405],\n",
       "       [ 1.24792268,  4.93267846],\n",
       "       [ 1.97619886,  4.43489674],\n",
       "       [ 2.23454135,  5.05547168],\n",
       "       [ 2.98340757,  4.84046406],\n",
       "       [ 2.97970391,  4.80671081],\n",
       "       [ 2.11496411,  5.37373587],\n",
       "       [ 2.12169543,  5.20854212],\n",
       "       [ 1.5143529 ,  4.77003303],\n",
       "       [ 2.16979227,  5.27435354],\n",
       "       [ 0.41852373,  4.88312522],\n",
       "       [ 2.47053695,  4.80418944],\n",
       "       [ 4.06069132,  4.99503862],\n",
       "       [ 3.00708934,  4.67897758],\n",
       "       [ 0.66632346,  4.87187949],\n",
       "       [ 3.1621865 ,  4.83658301],\n",
       "       [ 0.51155258,  4.91052923],\n",
       "       [ 3.1342801 ,  4.96178114],\n",
       "       [ 2.04974595,  5.6241395 ],\n",
       "       [ 0.66582785,  5.24399257],\n",
       "       [ 1.01732013,  4.84473647],\n",
       "       [ 2.17893568,  5.29758701],\n",
       "       [ 2.85962615,  5.26041997],\n",
       "       [ 1.30882588,  5.30158701],\n",
       "       [ 0.99253246,  5.01567424],\n",
       "       [ 1.40372638,  4.57527684],\n",
       "       [ 2.66046572,  5.19623848],\n",
       "       [ 2.79995882,  5.11526323],\n",
       "       [ 2.06995345,  4.6846713 ],\n",
       "       [ 3.29765181,  5.59205535],\n",
       "       [ 1.8929766 ,  4.89043209],\n",
       "       [ 2.55983064,  5.26397756],\n",
       "       [ 1.15354031,  4.67866717],\n",
       "       [ 2.25150754,  5.4450031 ],\n",
       "       [ 2.20960296,  4.91469264],\n",
       "       [ 1.59141937,  4.83212573],\n",
       "       [ 1.67838038,  5.26903822],\n",
       "       [ 2.59148642,  4.92593394],\n",
       "       [ 2.80996442,  5.53849899],\n",
       "       [ 0.95311627,  5.58037108],\n",
       "       [ 1.51775276,  5.03836638],\n",
       "       [ 3.23114248,  5.78429665],\n",
       "       [ 2.54180011,  4.81098738],\n",
       "       [ 3.81422865,  4.73526796],\n",
       "       [ 1.68495829,  4.59643553],\n",
       "       [ 2.17777173,  4.86154019],\n",
       "       [ 1.8173328 ,  5.13333907],\n",
       "       [ 1.85776553,  4.86962414],\n",
       "       [ 3.03084301,  5.24057582],\n",
       "       [ 2.92658295,  5.09667923],\n",
       "       [ 3.43493543,  5.34080741],\n",
       "       [ 3.20367116,  4.85924759],\n",
       "       [ 0.10511804,  4.72916344],\n",
       "       [ 1.40597916,  5.06636822],\n",
       "       [ 2.24185052,  4.9244617 ],\n",
       "       [ 1.36678395,  5.26161095],\n",
       "       [ 1.70725482,  4.04231479],\n",
       "       [ 1.91909566,  5.57848447],\n",
       "       [ 1.60156731,  4.64453012],\n",
       "       [ 0.37963437,  5.26194729],\n",
       "       [ 2.02134502,  4.41267445],\n",
       "       [ 1.12036737,  5.20880747],\n",
       "       [ 2.26901428,  4.61818883],\n",
       "       [-0.24512713,  5.74019237],\n",
       "       [ 2.12857843,  5.01149793],\n",
       "       [ 1.84419981,  5.03153948],\n",
       "       [ 2.32558253,  4.74867962],\n",
       "       [ 1.52334113,  4.87916159],\n",
       "       [ 1.02285128,  5.0105065 ],\n",
       "       [ 1.85382737,  5.00752482],\n",
       "       [ 2.20321658,  4.94516379],\n",
       "       [ 1.20099981,  4.57829763],\n",
       "       [ 1.02062703,  4.62991119],\n",
       "       [ 1.60493227,  5.13663139],\n",
       "       [ 0.47647355,  5.13535977],\n",
       "       [ 0.3639172 ,  4.73332823],\n",
       "       [ 0.31319845,  5.54694644],\n",
       "       [ 2.28664839,  5.0076699 ],\n",
       "       [ 2.15460139,  5.46282959],\n",
       "       [ 2.05288518,  4.77958559],\n",
       "       [ 4.88804332,  5.50670795],\n",
       "       [ 2.40304747,  5.08147326],\n",
       "       [ 2.56869453,  5.20687886],\n",
       "       [ 1.82975993,  4.59657288],\n",
       "       [ 0.54845223,  5.0267298 ],\n",
       "       [ 3.17109619,  5.5946452 ],\n",
       "       [ 3.04202069,  5.00758373],\n",
       "       [ 2.40427775,  5.0258707 ],\n",
       "       [ 0.17783466,  5.29765032],\n",
       "       [ 2.61428678,  5.22287414],\n",
       "       [ 2.30097798,  4.97235844],\n",
       "       [ 3.90779317,  5.09464676],\n",
       "       [ 2.05670542,  5.23391326],\n",
       "       [ 1.38133497,  5.00194962],\n",
       "       [ 1.16074178,  4.67727927],\n",
       "       [ 1.72818199,  5.36028437],\n",
       "       [ 3.20360621,  0.7222149 ],\n",
       "       [ 3.06192918,  1.5719211 ],\n",
       "       [ 4.01714917,  1.16070647],\n",
       "       [ 1.40260822,  1.08726536],\n",
       "       [ 4.08164951,  0.87200343],\n",
       "       [ 3.15273081,  0.98155871],\n",
       "       [ 3.45186351,  0.42784083],\n",
       "       [ 3.85384314,  0.7920479 ],\n",
       "       [ 1.57449255,  1.34811126],\n",
       "       [ 4.72372078,  0.62044136],\n",
       "       [ 2.87961084,  0.75413741],\n",
       "       [ 0.96791348,  1.16166819],\n",
       "       [ 1.53178107,  1.10054852],\n",
       "       [ 4.13835915,  1.24780979],\n",
       "       [ 3.16109021,  1.29422893],\n",
       "       [ 2.95177039,  0.89583143],\n",
       "       [ 3.27844295,  1.75043926],\n",
       "       [ 2.1270185 ,  0.95672042],\n",
       "       [ 3.32648885,  1.28019066],\n",
       "       [ 2.54371489,  0.95732716],\n",
       "       [ 3.233947  ,  1.08202324],\n",
       "       [ 4.43152976,  0.54041   ],\n",
       "       [ 3.56478625,  1.11764714],\n",
       "       [ 4.25588482,  0.90643957],\n",
       "       [ 4.05386581,  0.53291862],\n",
       "       [ 3.08970176,  1.08814448],\n",
       "       [ 2.84734459,  0.26759253],\n",
       "       [ 3.63586049,  1.12160194],\n",
       "       [ 1.95538864,  1.32156857],\n",
       "       [ 2.88384005,  0.80454506],\n",
       "       [ 3.48444387,  1.13551448],\n",
       "       [ 3.49798412,  1.10046402],\n",
       "       [ 2.45575934,  0.78904654],\n",
       "       [ 3.2038001 ,  1.02728075],\n",
       "       [ 3.00677254,  0.62519128],\n",
       "       [ 1.96547974,  1.2173076 ],\n",
       "       [ 2.17989333,  1.30879831],\n",
       "       [ 2.61207029,  0.99076856],\n",
       "       [ 3.95549912,  0.83269299],\n",
       "       [ 3.64846482,  1.62849697],\n",
       "       [ 4.18450011,  0.45356203],\n",
       "       [ 3.7875723 ,  1.45442904],\n",
       "       [ 3.30063655,  1.28107588],\n",
       "       [ 3.02836363,  1.35635189],\n",
       "       [ 3.18412176,  1.41410799],\n",
       "       [ 4.16911897,  0.20581038],\n",
       "       [ 3.24024211,  1.14876237],\n",
       "       [ 3.91596068,  1.01225774],\n",
       "       [ 2.96979716,  1.01210306],\n",
       "       [ 1.12993856,  0.77085284],\n",
       "       [ 2.71730799,  0.48697555],\n",
       "       [ 3.1189017 ,  0.69438336],\n",
       "       [ 2.4051802 ,  1.11778123],\n",
       "       [ 2.95818429,  1.01887096],\n",
       "       [ 1.65456309,  1.18631175],\n",
       "       [ 2.39775807,  1.24721387],\n",
       "       [ 2.28409305,  0.64865469],\n",
       "       [ 2.79588724,  0.99526664],\n",
       "       [ 3.41156277,  1.1596363 ],\n",
       "       [ 3.50663521,  0.73878104],\n",
       "       [ 3.93616029,  1.46202934],\n",
       "       [ 3.90206657,  1.27778751],\n",
       "       [ 2.61036396,  0.88027602],\n",
       "       [ 4.37271861,  1.02914092],\n",
       "       [ 3.08349136,  1.19632644],\n",
       "       [ 2.1159935 ,  0.7930365 ],\n",
       "       [ 2.15653404,  0.40358861],\n",
       "       [ 2.14491101,  1.13582399],\n",
       "       [ 1.84935524,  1.02232644],\n",
       "       [ 4.1590816 ,  0.61720733],\n",
       "       [ 2.76494499,  1.43148951],\n",
       "       [ 3.90561153,  1.16575315],\n",
       "       [ 2.54071672,  0.98392516],\n",
       "       [ 4.27783068,  1.1801368 ],\n",
       "       [ 3.31058167,  1.03124461],\n",
       "       [ 2.15520661,  0.80696562],\n",
       "       [ 3.71363659,  0.45813208],\n",
       "       [ 3.54010186,  0.86446135],\n",
       "       [ 1.60519991,  1.1098053 ],\n",
       "       [ 1.75164337,  0.68853536],\n",
       "       [ 3.12405123,  0.67821757],\n",
       "       [ 2.37198785,  1.42789607],\n",
       "       [ 2.53446019,  1.21562081],\n",
       "       [ 3.6834465 ,  1.22834538],\n",
       "       [ 3.2670134 ,  0.32056676],\n",
       "       [ 3.94159139,  0.82577438],\n",
       "       [ 3.2645514 ,  1.3836869 ],\n",
       "       [ 4.30471138,  1.10725995],\n",
       "       [ 2.68499376,  0.35344943],\n",
       "       [ 3.12635184,  1.2806893 ],\n",
       "       [ 2.94294356,  1.02825076],\n",
       "       [ 3.11876541,  1.33285459],\n",
       "       [ 2.02358978,  0.44771614],\n",
       "       [ 3.62202931,  1.28643763],\n",
       "       [ 2.42865879,  0.86499285],\n",
       "       [ 2.09517296,  1.14010491],\n",
       "       [ 5.29239452,  0.36873298],\n",
       "       [ 2.07291709,  1.16763851],\n",
       "       [ 0.94623208,  0.24522253],\n",
       "       [ 2.73911908,  1.10072284],\n",
       "       [ 6.00506534,  2.72784171],\n",
       "       [ 6.05696411,  2.94970433],\n",
       "       [ 6.77012767,  3.21411422],\n",
       "       [ 5.64034678,  2.69385282],\n",
       "       [ 5.63325403,  2.99002339],\n",
       "       [ 6.17443157,  3.29026488],\n",
       "       [ 7.24694794,  2.96877424],\n",
       "       [ 5.58162906,  3.33510375],\n",
       "       [ 5.3627205 ,  3.14681192],\n",
       "       [ 4.70775773,  2.78710869],\n",
       "       [ 7.42892098,  3.4667949 ],\n",
       "       [ 6.64107248,  3.05998738],\n",
       "       [ 6.37473652,  2.56253059],\n",
       "       [ 7.28780324,  2.75179885],\n",
       "       [ 6.20295231,  2.67856179],\n",
       "       [ 5.38736041,  2.26737346],\n",
       "       [ 5.6673103 ,  2.96477867],\n",
       "       [ 6.59702155,  3.07082376],\n",
       "       [ 7.75660559,  3.15604465],\n",
       "       [ 6.63262745,  3.14799183],\n",
       "       [ 5.76634959,  3.14271707],\n",
       "       [ 5.99423154,  2.75707858],\n",
       "       [ 6.37870407,  2.65022321],\n",
       "       [ 5.74036233,  3.10391306],\n",
       "       [ 4.61652442,  2.79320715],\n",
       "       [ 5.33533999,  3.03928694],\n",
       "       [ 5.37293912,  2.81684776],\n",
       "       [ 5.03611162,  2.92486087],\n",
       "       [ 5.52908677,  3.33681576],\n",
       "       [ 6.05086942,  2.80702594],\n",
       "       [ 5.132009  ,  2.19812195],\n",
       "       [ 5.73284945,  2.87738132],\n",
       "       [ 6.78110732,  3.05676866],\n",
       "       [ 6.44834449,  3.35299225],\n",
       "       [ 6.39941482,  2.89756948],\n",
       "       [ 5.86067925,  2.99577129],\n",
       "       [ 6.44765183,  3.16560945],\n",
       "       [ 5.36708111,  3.19502552],\n",
       "       [ 5.88735565,  3.34615566],\n",
       "       [ 3.96162465,  2.72025046],\n",
       "       [ 6.28438193,  3.17360643],\n",
       "       [ 4.20584789,  2.81647368],\n",
       "       [ 5.32615581,  3.03314047],\n",
       "       [ 7.17135204,  3.4122727 ],\n",
       "       [ 7.4949275 ,  2.84018754],\n",
       "       [ 7.39807241,  3.48487031],\n",
       "       [ 5.02432984,  2.98683179],\n",
       "       [ 5.31712478,  2.81741356],\n",
       "       [ 5.87655237,  3.21661109],\n",
       "       [ 6.03762833,  2.68303512],\n",
       "       [ 5.91280273,  2.85631938],\n",
       "       [ 6.69451358,  2.89056083],\n",
       "       [ 6.01017978,  2.72401338],\n",
       "       [ 6.92721968,  3.19960026],\n",
       "       [ 6.33559522,  3.30864291],\n",
       "       [ 6.24257071,  2.79179269],\n",
       "       [ 5.57812294,  3.24766016],\n",
       "       [ 6.40773863,  2.67554951],\n",
       "       [ 6.80029526,  3.17579578],\n",
       "       [ 7.21684033,  2.72896575],\n",
       "       [ 6.5110074 ,  2.72731907],\n",
       "       [ 4.60630534,  3.329458  ],\n",
       "       [ 7.65503226,  2.87095628],\n",
       "       [ 5.50295759,  2.62924634],\n",
       "       [ 6.63060699,  3.01502301],\n",
       "       [ 3.45928006,  2.68478445],\n",
       "       [ 8.20339815,  2.41693495],\n",
       "       [ 4.95679428,  2.89776297],\n",
       "       [ 5.37052667,  2.44954813],\n",
       "       [ 5.69797866,  2.94977132],\n",
       "       [ 6.27376271,  2.24256036],\n",
       "       [ 5.05274526,  2.75692163],\n",
       "       [ 6.88575584,  2.88845269],\n",
       "       [ 4.1877442 ,  2.89283463],\n",
       "       [ 5.97510328,  3.0259191 ],\n",
       "       [ 6.09457129,  2.61867975],\n",
       "       [ 5.72395697,  3.04454219],\n",
       "       [ 4.37249767,  3.05488217],\n",
       "       [ 6.29206262,  2.77573856],\n",
       "       [ 5.14533035,  4.13225692],\n",
       "       [ 6.5870565 ,  3.37508345],\n",
       "       [ 5.78769095,  3.29255127],\n",
       "       [ 6.72798098,  3.0043983 ],\n",
       "       [ 6.64078939,  2.41068839],\n",
       "       [ 6.23228878,  2.72850902],\n",
       "       [ 6.21772724,  2.80994633],\n",
       "       [ 5.78116301,  3.07987787],\n",
       "       [ 6.62447253,  2.74453743],\n",
       "       [ 5.19590823,  3.06972937],\n",
       "       [ 5.87177181,  3.2551773 ],\n",
       "       [ 5.89562099,  2.89843977],\n",
       "       [ 5.6175432 ,  2.5975071 ],\n",
       "       [ 5.63176103,  3.04758747],\n",
       "       [ 5.50258659,  3.11869075],\n",
       "       [ 6.48212628,  2.5508514 ],\n",
       "       [ 7.30278708,  3.38015979],\n",
       "       [ 6.99198434,  2.98706729],\n",
       "       [ 4.8255341 ,  2.77961664],\n",
       "       [ 6.11768055,  2.85475655],\n",
       "       [ 0.94048944,  5.71556802]])"
      ]
     },
     "execution_count": 3,
     "metadata": {},
     "output_type": "execute_result"
    }
   ],
   "source": [
    "X"
   ]
  },
  {
   "cell_type": "code",
   "execution_count": 4,
   "metadata": {},
   "outputs": [
    {
     "data": {
      "text/plain": [
       "300"
      ]
     },
     "execution_count": 4,
     "metadata": {},
     "output_type": "execute_result"
    }
   ],
   "source": [
    "# Type your code here\n",
    "m = X.shape[0]\n",
    "m"
   ]
  },
  {
   "cell_type": "code",
   "execution_count": 12,
   "metadata": {},
   "outputs": [
    {
     "name": "stdout",
     "output_type": "stream",
     "text": [
      "Number of cluster to find is: 3\n"
     ]
    }
   ],
   "source": [
    "# number of cluster\n",
    "K = 3\n",
    "print(\"Number of cluster to find is:\",K)\n",
    "\n",
    "# Intialize centroids and cluster assignment\n",
    "# Type your code here\n",
    "centroid = np.array([[4,0],[4,3],[0,5]]) \n",
    "centroid = centroid.astype(float) # /!\\ FLOAT VALUES\n",
    "clust_x=np.zeros((m,))\n",
    "centroid_hist=[np.copy(centroid)]"
   ]
  },
  {
   "cell_type": "markdown",
   "metadata": {},
   "source": [
    "**Question 2: **\n",
    "- Implement the \"euclidean_dist\" function that calculates the euclidean distance (norm L2: square root of sum of square) between two vectors (Use axis = -1)."
   ]
  },
  {
   "cell_type": "code",
   "execution_count": 13,
   "metadata": {},
   "outputs": [],
   "source": [
    "# euclidean distance\n",
    "def euclidean_dist(x1,x2):\n",
    "    # Type your code here\n",
    "    #euclidean_dist = sqrt(x1**2+x2**2)\n",
    "    euclidean_dist = np.sqrt(np.sum((x1-x2)**2,axis = -1))\n",
    "    return  euclidean_dist\n"
   ]
  },
  {
   "cell_type": "markdown",
   "metadata": {},
   "source": [
    "**Question 3: **\n",
    "- Implement the cluster assignment step (inner for loop with counter \"i\"). It consists to assign each point to the nearest cluster centroid. Store the indice of the nearest centroid of the \"m\" points in \"clust_x\" array.    \n",
    "**Hint:** You could use \"euclidean_dist\" function to calculate distances between each point and all the centroids.\n",
    "- Implement update centroids step (inner for loop with counter \"c\"). It consists to calculate new centroid as the **mean** of all the points assigned to its cluster."
   ]
  },
  {
   "cell_type": "markdown",
   "metadata": {},
   "source": [
    "d = distance between each point of our data and centroid\n",
    "d.shape = (3,)\n",
    "cluster_x contains the cluster of each point in the data"
   ]
  },
  {
   "cell_type": "code",
   "execution_count": 14,
   "metadata": {},
   "outputs": [],
   "source": [
    "# K-means clustering algorithm\n",
    "def K_means(X,clust_x,centroid,centroid_hist=[],hist=False,max_iter=10) :\n",
    "    k = centroid.shape[0]\n",
    "    m = X.shape[0]\n",
    "\n",
    "    for iter_ in range(max_iter):\n",
    "        print(\"ITERATION n = \", iter_,)\n",
    "        # Cluster assignment step\n",
    "        for i in range(m): # assign each point to the nearest cluster centroid.\n",
    "            # Type your code here\n",
    "            d= euclidean_dist(X[i,:],centroid) #d(3,)\n",
    "            \n",
    "            # Type your code here\n",
    "            clust_x[i]= np.argmin(d) # return index of the min value\n",
    "        \n",
    "        #clust_x : for all points, it contains the num of the cluster to which it belongs to \n",
    "        # Update centroids step\n",
    "        for c in range(k):\n",
    "            # Type your code here\n",
    "            # Calculate new centroid\n",
    "            #centroid[c,:]= mean(clust_x[value == c for value in clust_x])\n",
    "            centroid[c,:]= np.mean(X[clust_x == c],axis=0) \n",
    "            # X[...] because we want to take the mean of the values of each points, not the mean of the num of the cluster it belongs to...\n",
    "            # axis = 0 because we want to take the mean for EACH column\n",
    "            \n",
    "            print(np.mean(X[clust_x == c],axis=0)) # We print the  new centroid. We will get 3 values for each loop, so 30 values because we repeat the loop 10 times\n",
    "\n",
    "        if (hist):\n",
    "            centroid_hist.append(np.copy(centroid))\n",
    "    if (hist):\n",
    "        return centroid,centroid_hist,clust_x\n",
    "    return centroid,clust_x"
   ]
  },
  {
   "cell_type": "code",
   "execution_count": 15,
   "metadata": {},
   "outputs": [],
   "source": [
    "l = np.array([1,1,2,5,3,4])\n"
   ]
  },
  {
   "cell_type": "code",
   "execution_count": 16,
   "metadata": {},
   "outputs": [],
   "source": [
    "test = l>4"
   ]
  },
  {
   "cell_type": "code",
   "execution_count": 17,
   "metadata": {},
   "outputs": [
    {
     "data": {
      "text/plain": [
       "array([0, 0, 0, 2, 0, 0])"
      ]
     },
     "execution_count": 17,
     "metadata": {},
     "output_type": "execute_result"
    }
   ],
   "source": [
    "test*2"
   ]
  },
  {
   "cell_type": "markdown",
   "metadata": {},
   "source": [
    "Let's visualize the clustered data"
   ]
  },
  {
   "cell_type": "code",
   "execution_count": 18,
   "metadata": {},
   "outputs": [
    {
     "name": "stdout",
     "output_type": "stream",
     "text": [
      "ITERATION n =  0\n",
      "[3.02107959 0.96098937]\n",
      "[5.34845742 3.37633792]\n",
      "[1.55027822 5.00852779]\n",
      "ITERATION n =  1\n",
      "[3.03458254 0.9985308 ]\n",
      "[5.95299109 3.05382418]\n",
      "[1.8916712  5.02822013]\n",
      "ITERATION n =  2\n",
      "[3.04367119 1.01541041]\n",
      "[6.03366736 3.00052511]\n",
      "[1.95399466 5.02557006]\n",
      "ITERATION n =  3\n",
      "[3.04367119 1.01541041]\n",
      "[6.03366736 3.00052511]\n",
      "[1.95399466 5.02557006]\n",
      "ITERATION n =  4\n",
      "[3.04367119 1.01541041]\n",
      "[6.03366736 3.00052511]\n",
      "[1.95399466 5.02557006]\n",
      "ITERATION n =  5\n",
      "[3.04367119 1.01541041]\n",
      "[6.03366736 3.00052511]\n",
      "[1.95399466 5.02557006]\n",
      "ITERATION n =  6\n",
      "[3.04367119 1.01541041]\n",
      "[6.03366736 3.00052511]\n",
      "[1.95399466 5.02557006]\n",
      "ITERATION n =  7\n",
      "[3.04367119 1.01541041]\n",
      "[6.03366736 3.00052511]\n",
      "[1.95399466 5.02557006]\n",
      "ITERATION n =  8\n",
      "[3.04367119 1.01541041]\n",
      "[6.03366736 3.00052511]\n",
      "[1.95399466 5.02557006]\n",
      "ITERATION n =  9\n",
      "[3.04367119 1.01541041]\n",
      "[6.03366736 3.00052511]\n",
      "[1.95399466 5.02557006]\n"
     ]
    },
    {
     "data": {
      "image/png": "[encoded data removed]",
      "text/plain": [
       "<Figure size 504x360 with 1 Axes>"
      ]
     },
     "metadata": {},
     "output_type": "display_data"
    }
   ],
   "source": [
    "centroid,centroid_hist,clust_x = K_means(X,clust_x,centroid,centroid_hist,hist=True)\n",
    "# visualize clusters and centroids    \n",
    "plt.figure(\"K-means steps\",figsize=(7,5))\n",
    "plt.scatter(X[clust_x==0,0],X[clust_x==0,1],color=\"blue\",marker='o',facecolors='none')\n",
    "plt.scatter(X[clust_x==1,0],X[clust_x==1,1],color=\"red\",marker='o',facecolors='none')\n",
    "plt.scatter(X[clust_x==2,0],X[clust_x==2,1],color=\"green\",marker='o',facecolors='none')\n",
    "plt.scatter(centroid[:,0],centroid[:,1],color=\"k\",marker='*',s=100)\n",
    "for i in range(len(centroid_hist)-1):\n",
    "    plt.scatter(centroid_hist[i][:,0],centroid_hist[i][:,1],color=\"k\",marker='*',facecolors='none')\n",
    "    #plt.plot([centroid_hist[i][:,0],centroid_hist[i+1][:,0]],[centroid_hist[i][:,1],centroid_hist[i+1][:,1]],'k--',linewidth=1)\n",
    "    plt.quiver(centroid_hist[i][:,0],centroid_hist[i][:,1],centroid_hist[i+1][:,0]-centroid_hist[i][:,0],centroid_hist[i+1][:,1]-centroid_hist[i][:,1],width=.003,color='k',scale=1,scale_units='xy',angles='xy')\n"
   ]
  },
  {
   "cell_type": "markdown",
   "metadata": {},
   "source": [
    "**Question 4: **\n",
    "- Create an array of shape (3, 2) to initialize the 3 centroids with the **float** values (4,5), (4,3), (0,5)."
   ]
  },
  {
   "cell_type": "code",
   "execution_count": 19,
   "metadata": {},
   "outputs": [],
   "source": [
    "# Intialize centroids and cluster assignment\n",
    "# Type your code here\n",
    "centroid = np.array([[4,5],[4,3],[0,5]])\n",
    "centroid.astype(float)\n",
    "clust_x=np.zeros((m,))\n",
    "centroid_hist=[np.copy(centroid)]"
   ]
  },
  {
   "cell_type": "markdown",
   "metadata": {},
   "source": [
    "Let's visualize the clustered data"
   ]
  },
  {
   "cell_type": "code",
   "execution_count": 20,
   "metadata": {},
   "outputs": [
    {
     "name": "stdout",
     "output_type": "stream",
     "text": [
      "ITERATION n =  0\n",
      "[2.79850312 5.05121767]\n",
      "[4.51321226 1.95570575]\n",
      "[1.19285671 4.98253278]\n",
      "ITERATION n =  1\n",
      "[2.36753042 5.04313984]\n",
      "[4.53111781 1.95971604]\n",
      "[0.70069264 4.72844979]\n",
      "ITERATION n =  2\n",
      "[2.26075036 5.00897715]\n",
      "[4.53111781 1.95971604]\n",
      "[0.39031788 4.77487665]\n",
      "ITERATION n =  3\n",
      "[2.26075036 5.00897715]\n",
      "[4.53111781 1.95971604]\n",
      "[0.39031788 4.77487665]\n",
      "ITERATION n =  4\n",
      "[2.26075036 5.00897715]\n",
      "[4.53111781 1.95971604]\n",
      "[0.39031788 4.77487665]\n",
      "ITERATION n =  5\n",
      "[2.26075036 5.00897715]\n",
      "[4.53111781 1.95971604]\n",
      "[0.39031788 4.77487665]\n",
      "ITERATION n =  6\n",
      "[2.26075036 5.00897715]\n",
      "[4.53111781 1.95971604]\n",
      "[0.39031788 4.77487665]\n",
      "ITERATION n =  7\n",
      "[2.26075036 5.00897715]\n",
      "[4.53111781 1.95971604]\n",
      "[0.39031788 4.77487665]\n",
      "ITERATION n =  8\n",
      "[2.26075036 5.00897715]\n",
      "[4.53111781 1.95971604]\n",
      "[0.39031788 4.77487665]\n",
      "ITERATION n =  9\n",
      "[2.26075036 5.00897715]\n",
      "[4.53111781 1.95971604]\n",
      "[0.39031788 4.77487665]\n"
     ]
    },
    {
     "data": {
      "image/png": "[encoded data removed]",
      "text/plain": [
       "<Figure size 504x360 with 1 Axes>"
      ]
     },
     "metadata": {},
     "output_type": "display_data"
    }
   ],
   "source": [
    "centroid,centroid_hist,clust_x = K_means(X,clust_x,centroid,centroid_hist,hist=True)\n",
    "# visualize clusters and centroids    \n",
    "plt.figure(\"K-means steps\",figsize=(7,5))\n",
    "plt.scatter(X[clust_x==0,0],X[clust_x==0,1],color=\"blue\",marker='o',facecolors='none')\n",
    "plt.scatter(X[clust_x==1,0],X[clust_x==1,1],color=\"red\",marker='o',facecolors='none')\n",
    "plt.scatter(X[clust_x==2,0],X[clust_x==2,1],color=\"green\",marker='o',facecolors='none')\n",
    "plt.scatter(centroid[:,0],centroid[:,1],color=\"k\",marker='*',s=100)\n",
    "for i in range(len(centroid_hist)-1):\n",
    "    #plt.scatter(centroid_hist[i][:,0],centroid_hist[i][:,1],color=\"k\",marker='*',facecolors='none')\n",
    "    plt.plot([centroid_hist[i][:,0],centroid_hist[i+1][:,0]],[centroid_hist[i][:,1],centroid_hist[i+1][:,1]],'k--',linewidth=1)\n",
    "    plt.quiver(centroid_hist[i][:,0],centroid_hist[i][:,1],centroid_hist[i+1][:,0]-centroid_hist[i][:,0],centroid_hist[i+1][:,1]-centroid_hist[i][:,1],width=.003,color='k',scale=1,scale_units='xy',angles='xy')"
   ]
  },
  {
   "cell_type": "markdown",
   "metadata": {},
   "source": [
    "### Random initialization of centroids\n",
    "\n",
    "We see that the final clustering result depend a lot of used initial centroids. It could also change a lot even with few modification in the centroid initialization. Hence, We will randomly initialize centroids and run K-means algorithm several time then we will take the best run. In order to compare different runs and select the best one we calculate a error function that reflect how well is the final clustering. This error is equal to the sum of square error (euclidean distance) between all point and their corresponding cluster centroid. It is given by:\n",
    "$$cluster\\_error(clust\\_x,centroid)=\\frac{1}{m} \\left \\| x-centroid(x) \\right \\|^2$$\n",
    "where:  $\\left \\| x \\right \\|^2=\\sum_{j=1}^nx_j^2$ "
   ]
  },
  {
   "cell_type": "markdown",
   "metadata": {},
   "source": [
    "**Question 5: **\n",
    "- Initialize the minimum error \"Jmin\" with +infinity.  \n",
    "**Hint:** You could use numpy.inf value."
   ]
  },
  {
   "cell_type": "code",
   "execution_count": 21,
   "metadata": {},
   "outputs": [],
   "source": [
    "# initialize some variable\n",
    "centroid = np.zeros((K,X.shape[1]))\n",
    "clust_x = np.zeros((m,),dtype=int)\n",
    "centroid_min = np.zeros((K,X.shape[1]))\n",
    "clust_x_min = np.zeros((m,),dtype=int)\n",
    "# Type your code here\n",
    "Jmin = np.inf"
   ]
  },
  {
   "cell_type": "code",
   "execution_count": 22,
   "metadata": {},
   "outputs": [
    {
     "data": {
      "text/plain": [
       "inf"
      ]
     },
     "execution_count": 22,
     "metadata": {},
     "output_type": "execute_result"
    }
   ],
   "source": [
    "Jmin"
   ]
  },
  {
   "cell_type": "markdown",
   "metadata": {},
   "source": [
    "**Question 6: **\n",
    "- Initialize \"centroid\" with random K point from original data \"X\".  \n",
    "**Hint:** You could generate a [random permutation](https://docs.scipy.org/doc/numpy-1.14.0/reference/generated/numpy.random.permutation.html) vector of size \"m\". Then, extract from it first K element to index lines of matrix \"X\" and put results in \"centroid\" variable.\n",
    "- Calculate the error function \"J\" according to the equation given above.\n",
    "- In \"if (J < Jmin)\" statement assign the suitable value for \"Jmin\", \"centroid_min\" and \"clust_x_min\" variables."
   ]
  },
  {
   "cell_type": "code",
   "execution_count": 28,
   "metadata": {},
   "outputs": [
    {
     "ename": "SyntaxError",
     "evalue": "invalid syntax (<ipython-input-28-58f4b7c9fd6d>, line 23)",
     "output_type": "error",
     "traceback": [
      "\u001b[0;36m  File \u001b[0;32m\"<ipython-input-28-58f4b7c9fd6d>\"\u001b[0;36m, line \u001b[0;32m23\u001b[0m\n\u001b[0;31m    centroid_min =\u001b[0m\n\u001b[0m                   ^\u001b[0m\n\u001b[0;31mSyntaxError\u001b[0m\u001b[0;31m:\u001b[0m invalid syntax\n"
     ]
    }
   ],
   "source": [
    "# K-means with random initialization and  multiple runs\n",
    "def K_means_multi_run(X,centroid,clust_x,centroid_min,clust_x_min,Jmin,monte_carlo=100):\n",
    "    m = X.shape[0]\n",
    "    k = centroid.shape[0]\n",
    "    for p in range(monte_carlo):\n",
    "        # Type your code here\n",
    "        rand_perm = np.random.permutation(m)\n",
    "        first_k_elts = rand_perm[:k]\n",
    "        centroid = X[first_k_elts] \n",
    "        centroid, clust_x = K_means(X,clust_x,centroid,centroid_hist=[],hist=False,max_iter=10)\n",
    "        \n",
    "        \n",
    "        # error function\n",
    "        # Type your code here\n",
    "        \n",
    "        clust_error = np.sum(((X-centroid[clust_x])**2),axis=1)\n",
    "        #cluster_error = np.sum(inter_clust_error, axis=0)/m\n",
    "        J = cluster_error\n",
    "        \n",
    "        if(J<Jmin):\n",
    "            # Type your code here\n",
    "            Jmin = J\n",
    "            centroid_min = \n",
    "            clust_x_min = \n",
    "    return centroid_min,clust_x_min,Jmin"
   ]
  },
  {
   "cell_type": "code",
   "execution_count": null,
   "metadata": {},
   "outputs": [],
   "source": [
    "reshape(x,(4,4))\n"
   ]
  },
  {
   "cell_type": "markdown",
   "metadata": {},
   "source": [
    "$$cluster\\_error(clust\\_x,centroid)=\\frac{1}{m} \\left \\| x-centroid(x) \\right \\|^2$$\n",
    "where:  $\\left \\| x \\right \\|^2=\\sum_{j=1}^nx_j^2$ "
   ]
  },
  {
   "cell_type": "code",
   "execution_count": null,
   "metadata": {},
   "outputs": [],
   "source": [
    "centroid_min,clust_x_min,Jmin = K_means_multi_run(X,centroid,clust_x,centroid_min,clust_x_min,Jmin)\n",
    "print(\"The minimum error is:\",Jmin)\n",
    "print(\"it was get for the following cluster centroids:\\n\",centroid_min)"
   ]
  },
  {
   "cell_type": "code",
   "execution_count": null,
   "metadata": {},
   "outputs": [],
   "source": [
    "# plot final clusters and centroids\n",
    "plt.figure(\"K-means with multiple runs\",figsize=(7,5))\n",
    "plt.scatter(X[clust_x_min==0,0],X[clust_x_min==0,1],color=\"blue\",marker='o',facecolors='none')\n",
    "plt.scatter(X[clust_x_min==1,0],X[clust_x_min==1,1],color=\"red\",marker='o',facecolors='none')\n",
    "plt.scatter(X[clust_x_min==2,0],X[clust_x_min==2,1],color=\"green\",marker='o',facecolors='none')\n",
    "plt.scatter(centroid_min[:,0],centroid_min[:,1],color=\"black\",marker='*',s=100)"
   ]
  },
  {
   "cell_type": "markdown",
   "metadata": {},
   "source": [
    "## Part 2: Choose the number of cluster K\n",
    "We are in the case of unsupervised learning and we don't known labels or number cluster in our data. However, K-mean clustering algorithm need to known in advance the number of cluster K. Hence, we will run K-means for different number of cluster K and we will choose the number that reasonable performance and error. \n",
    "\n",
    "**Question 1: **\n",
    "- Use [make_bolbs](http://scikit-learn.org/stable/modules/generated/sklearn.datasets.make_blobs.html) function from sklearn library to generate some random clusters. Use the following argument:  \n",
    "n_samples=1000, n_features=2, centers=7, cluster_std=1.2 and random_state=0 "
   ]
  },
  {
   "cell_type": "code",
   "execution_count": null,
   "metadata": {},
   "outputs": [],
   "source": [
    "# generate clusters\n",
    "# Type your code here\n",
    "X, y =  "
   ]
  },
  {
   "cell_type": "code",
   "execution_count": null,
   "metadata": {},
   "outputs": [],
   "source": [
    "# plot clusters\n",
    "plt.figure(\"More clusters\",figsize=(7,5))\n",
    "plt.scatter(X[:,0],X[:,1],color=\"blue\",marker='o',facecolors='none')\n"
   ]
  },
  {
   "cell_type": "code",
   "execution_count": null,
   "metadata": {},
   "outputs": [],
   "source": [
    "m=X.shape[0]\n",
    "K_max=10\n",
    "error_list=[]\n",
    "\n",
    "# initialize some variable\n",
    "clust_x = np.zeros((m,),dtype=int)\n",
    "clust_x_min = np.zeros((m,),dtype=int)"
   ]
  },
  {
   "cell_type": "markdown",
   "metadata": {},
   "source": [
    "**Question 2: **\n",
    "- Call \"K_means_multi_run\" function to calculate \"centroid_min\", \"clust_x_min\" and \"Jmin\".\n",
    "- Add the value of minimum error \"Jmin\" to the \"error_list\".\n",
    "- From the error graph can you deduce the best number of cluster?  \n",
    "\n",
    "**Warning:** This block of code may take 1 to 2 minutes to run. Please be patient."
   ]
  },
  {
   "cell_type": "code",
   "execution_count": null,
   "metadata": {},
   "outputs": [],
   "source": [
    "K_max=10\n",
    "color_list=['blue','red','magenta','green','purple','yellow','brown','cyan','orange']\n",
    "for k in range(3,K_max):\n",
    "    print(\"Run K-means clustering with K =\",k)\n",
    "    centroid = np.zeros((k,X.shape[1]))\n",
    "    centroid_min = np.zeros((k,X.shape[1]))\n",
    "    Jmin=np.inf \n",
    "    # Type your code here\n",
    "    centroid_min,clust_x_min,Jmin = \n",
    "    d_max=np.zeros((k))\n",
    "    vor = Voronoi(centroid_min)\n",
    "    fig=voronoi_plot_2d(vor, show_vertices=False, show_points=False, line_colors='black',line_width=2, line_alpha=1)#voronoi_plot_2d(vor)\n",
    "    plt.axis((-5.5, 13, -6.2, 12))\n",
    "    for i in range (k):\n",
    "        plt.scatter(X[clust_x_min==i,0],X[clust_x_min==i,1],color=color_list[i],marker='o',facecolors='none')\n",
    "    plt.scatter(centroid_min[:,0],centroid_min[:,1],color=\"black\",marker='*',s=100)\n",
    "    plt.show()\n",
    "    # Type your code here\n",
    "    "
   ]
  },
  {
   "cell_type": "code",
   "execution_count": null,
   "metadata": {},
   "outputs": [],
   "source": [
    "print(\"Clustering error for different value of K are \",error_list)\n",
    "plt.figure(\"clustering error vs number of cluster K\",figsize=(7,5))\n",
    "plt.plot(np.arange(3,K_max),error_list)"
   ]
  },
  {
   "cell_type": "code",
   "execution_count": null,
   "metadata": {},
   "outputs": [],
   "source": []
  }
 ],
 "metadata": {
  "kernelspec": {
   "display_name": "Python 3",
   "language": "python",
   "name": "python3"
  },
  "language_info": {
   "codemirror_mode": {
    "name": "ipython",
    "version": 3
   },
   "file_extension": ".py",
   "mimetype": "text/x-python",
   "name": "python",
   "nbconvert_exporter": "python",
   "pygments_lexer": "ipython3",
   "version": "3.6.5"
  },
  "latex_envs": {
   "LaTeX_envs_menu_present": true,
   "autoclose": false,
   "autocomplete": true,
   "bibliofile": "biblio.bib",
   "cite_by": "apalike",
   "current_citInitial": 1,
   "eqLabelWithNumbers": true,
   "eqNumInitial": 1,
   "hotkeys": {
    "equation": "Ctrl-E",
    "itemize": "Ctrl-I"
   },
   "labels_anchors": false,
   "latex_user_defs": false,
   "report_style_numbering": false,
   "user_envs_cfg": false
  }
 },
 "nbformat": 4,
 "nbformat_minor": 2
}
