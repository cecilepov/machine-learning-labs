{
 "cells": [
  {
   "cell_type": "markdown",
   "metadata": {},
   "source": [
    "# Lab 4: Logistic Regression (continuation) "
   ]
  },
  {
   "cell_type": "markdown",
   "metadata": {},
   "source": [
    "This lab is divided into two parts. The first one demonstrates the efficiency of using multiple and polynomial features in logistic regression. The second part includes data analysis techniques. "
   ]
  },
  {
   "cell_type": "markdown",
   "metadata": {},
   "source": [
    "<h2>Preparation</h2>"
   ]
  },
  {
   "cell_type": "markdown",
   "metadata": {},
   "source": [
    "We'll need the following libraries:"
   ]
  },
  {
   "cell_type": "code",
   "execution_count": 1,
   "metadata": {},
   "outputs": [],
   "source": [
    "import numpy as np\n",
    "import matplotlib.pyplot as plt\n",
    "from mpl_toolkits.mplot3d.axes3d import*\n",
    "from matplotlib import cm\n",
    "from matplotlib.patches import Rectangle\n",
    "from scipy.optimize import fmin_bfgs"
   ]
  },
  {
   "cell_type": "markdown",
   "metadata": {},
   "source": [
    "### Part 1: Training Multiple features using Microchip dataset"
   ]
  },
  {
   "cell_type": "markdown",
   "metadata": {},
   "source": [
    "The microchip data set contains 3 columns. The scores result of two test process on a manufactured microchips is presented in the 2 first columns. While the third column indicates if the corresponding microchip were accepted or rejected."
   ]
  },
  {
   "cell_type": "markdown",
   "metadata": {},
   "source": [
    "**Question 1: **  \n",
    "We want to use logistic regression to predict whether a microship is accepted or rejected based on its results on the two tests.\n",
    "- Load data from \"microchip.txt\" file and extract the features and the output.  \n",
    "**Hint:** You can use [loadtxt](https://docs.scipy.org/doc/numpy-1.13.0/reference/generated/numpy.loadtxt.html) function from numpy library.\n",
    "- Determine the number of the tested microships \"m\".  \n",
    "\n",
    "**Note:** The two tests score have the same scale [-1,1]. Thus, we don't need to do feature normalization."
   ]
  },
  {
   "cell_type": "code",
   "execution_count": 2,
   "metadata": {},
   "outputs": [],
   "source": [
    "# load data\n",
    "# Type your code here\n",
    "microchip_data = np.loadtxt('microchip.txt')\n",
    "\n",
    "# Type your code here\n",
    "# we add np.newaxis in the indexing to obtain an array with shape (m,1) instead of (m,)\n",
    "x_1 = microchip_data[:, 0][:, np.newaxis]  # feature1                              \n",
    "x_2 =  microchip_data[:, 1][:, np.newaxis] # feature2\n",
    "\n",
    "Y = microchip_data[:, 2][:, np.newaxis]  # The output we want to predict \n",
    "\n",
    "# Type your code here\n",
    "m = microchip_data.shape[0]  # number of microchips"
   ]
  },
  {
   "cell_type": "markdown",
   "metadata": {},
   "source": [
    "Let's visualize the data"
   ]
  },
  {
   "cell_type": "code",
   "execution_count": 3,
   "metadata": {},
   "outputs": [
    {
     "data": {
      "image/png": "[encoded data removed]",
      "text/plain": [
       "<Figure size 648x360 with 1 Axes>"
      ]
     },
     "metadata": {
      "needs_background": "light"
     },
     "output_type": "display_data"
    }
   ],
   "source": [
    "# visualize data\n",
    "%matplotlib inline\n",
    "plt.figure(\"Visualize microchip data\",figsize=(9,5))\n",
    "plt.scatter(x_1[Y==0], x_2[Y==0],  color='red',label='fail')\n",
    "plt.scatter(x_1[Y==1], x_2[Y==1],  color='green',marker='+',s=80, label='success')\n",
    "plt.xlabel('Test 1 score')\n",
    "plt.ylabel('Test 2 score')\n",
    "plt.title('Accepted/Rejected Microchip')\n",
    "legend = plt.legend(loc='lower left', shadow=True, fontsize='x-large')"
   ]
  },
  {
   "cell_type": "markdown",
   "metadata": {},
   "source": [
    "**Question 2: ** \n",
    "- Implement the \"Poly_Features\" function that concatenate to data array the different possible power (below deg) of feature vector f1 and f2 as shown below:$$data=[data,~f_1,~ f_1^2,~ \\dots,~ f_1^{deg},~ f_2,~ f_2^2,~ \\dots,~ f_2^{deg}]$$\n",
    "**Hint:** You can use numpy [concatenate](https://docs.scipy.org/doc/numpy/reference/generated/numpy.concatenate.html) function (put two columns or array together) with the parameter **axis=ax**."
   ]
  },
  {
   "cell_type": "code",
   "execution_count": 4,
   "metadata": {},
   "outputs": [],
   "source": [
    "def Poly_Features(data,f1,f2,deg,ax):\n",
    "    # Integrate polynomial terms (x_1^i and x_2^i where i<=degree)\n",
    "    # Type your code here\n",
    "    \n",
    "    for i in np.arange(1,deg+1,1):\n",
    "        data = np.concatenate((data, f1**i), axis=ax)\n",
    "    \n",
    "    for i in np.arange(1,deg+1,1):\n",
    "        data = np.concatenate((data, f2**i), axis=ax)\n",
    "   \n",
    "    return data"
   ]
  },
  {
   "cell_type": "markdown",
   "metadata": {},
   "source": [
    "**Question 3: ** \n",
    "- Use the implemented function \"Poly_Features\" to generate the array of features X.\n",
    "- Determine the number of features n."
   ]
  },
  {
   "cell_type": "code",
   "execution_count": 5,
   "metadata": {},
   "outputs": [],
   "source": [
    "degree=10       # degree of polynomial features\n",
    "X=np.ones((m,1))   # initialize X array\n",
    "\n",
    "# add polynomial features to the array data X\n",
    "# Type your code here\n",
    "X = Poly_Features(X, x_1, x_2, degree, 1)\n",
    "n = X.shape[1]"
   ]
  },
  {
   "cell_type": "markdown",
   "metadata": {},
   "source": [
    "**Question 4: **  \n",
    "- Create a sigmoid function that returns $sigmoid(z)=\\frac{1}{1+e^{-z}}$  \n",
    "**Hint:** For a vectorized implementation:\n",
    "- Use [<code>numpy.ones</code>](https://docs.scipy.org/doc/numpy-1.14.0/reference/generated/numpy.ones.html) to have a numerator with the same shape of z\n",
    "- Use [<code>numpy.exp</code>](https://docs.scipy.org/doc/numpy/reference/generated/numpy.exp.html)"
   ]
  },
  {
   "cell_type": "code",
   "execution_count": 6,
   "metadata": {},
   "outputs": [],
   "source": [
    "def sigmoid(z):\n",
    "    # Type your code here\n",
    "    ones = np.ones(z.shape)\n",
    "    e = np.exp(-z)\n",
    "    sig = ones/(ones+e) \n",
    "    return sig"
   ]
  },
  {
   "cell_type": "markdown",
   "metadata": {},
   "source": [
    "**Question 5: **\n",
    "- Create your logistic regression predict function\n",
    "$$yhat=sigmoid(\\theta^\\top x)=\\frac{1}{1+e^{-\\theta^\\top x}}$$\n",
    "**Hint:** Use the sigmoid function  \n",
    "This new hypothesis formulas will ensure: $0\\leq yhat_i\\leq 1$  "
   ]
  },
  {
   "cell_type": "code",
   "execution_count": 7,
   "metadata": {},
   "outputs": [],
   "source": [
    "# Create predict function\n",
    "def predict(x,theta):\n",
    "    # Type your code here\n",
    "        # Type your code here\n",
    "    z = np.dot(x, theta)\n",
    "    yhat = sigmoid(z)\n",
    "    return yhat"
   ]
  },
  {
   "cell_type": "markdown",
   "metadata": {},
   "source": [
    "**Question 6:** \n",
    "- Store in the variable m the number of samples.\n",
    "- Define the criterion or cost function that returns the NLL (Negative Log Likelihood Error):  \n",
    "**Negative Log Likelihood Error (NLL)**: $$cost=J(\\theta)=\\frac{-1}{m}\\sum_{i=1}^{m}\\left [y\\times log(yhat+(1-y)\\times log(1-yhat)\\right ]$$\n",
    "**Hint:** For a vectorized implementation:\n",
    "- Use [<code>numpy.sum</code>](https://docs.scipy.org/doc/numpy-1.15.1/reference/generated/numpy.sum.html) and [<code>numpy.log</code>](https://docs.scipy.org/doc/numpy-1.15.0/reference/generated/numpy.log.html)"
   ]
  },
  {
   "cell_type": "code",
   "execution_count": 8,
   "metadata": {},
   "outputs": [],
   "source": [
    "def NLL_cost(yhat, y):\n",
    "    # Type your code here\n",
    "    m = y.shape[0]\n",
    "    J = -np.sum(y*np.log(yhat)+(1-y)*np.log(1-yhat))/m\n",
    "    return  J"
   ]
  },
  {
   "cell_type": "markdown",
   "metadata": {},
   "source": [
    "**Question 7:** \n",
    "The gradient vector of the logistic cost function is calculated as following: $$\\nabla J(\\theta) = \\begin{bmatrix}\\frac{\\partial J(\\theta)}{\\partial \\theta_0}\n",
    "\\\\ \\frac{\\partial J(\\theta)}{\\partial \\theta_1}\n",
    "\\\\ \\vdots\n",
    "\\\\ \\frac{\\partial J(\\theta)}{\\partial \\theta_{n-1}}\n",
    "\\end{bmatrix}$$ \n",
    "where: $\\frac{\\partial J(\\theta)}{\\partial \\theta_j} = \\frac{1}{m} \\sum_{i=1}^{m}{(yhat_i - y_i)~x_{ij}} ~~for~ j=0\\dots n-1$\n",
    "- Implement the \"grad_cost_func\" function that evaluates the gradient of logistic cost function.  \n",
    "**Hint:** You can use the vectorized form: $\\nabla J(\\theta) =\\frac{1}{m} x^T(yhat-y)$"
   ]
  },
  {
   "cell_type": "code",
   "execution_count": 9,
   "metadata": {},
   "outputs": [],
   "source": [
    "def grad_cost_func(x, y, yhat):#theta, x, y):\n",
    "    # Type your code here\n",
    "    m = y.shape[0]\n",
    "    #g = np.dot(np.transpose(x),(yhat-y))/m   \n",
    "    g = np.dot(x.transpose(),(yhat-y))/m    \n",
    "    return g"
   ]
  },
  {
   "cell_type": "markdown",
   "metadata": {},
   "source": [
    "**Question 8: **\n",
    "- Call \"fmin_bfgs\" function to calculate the optimal theta. This function take as parameters: the name of cost function (\"NLL_cost_fn\"), the name of gradient cost function (\"grad_cost_fn\") and the initial theta (\"theta0\").\n",
    "- Print the optimal theta and the final error."
   ]
  },
  {
   "cell_type": "code",
   "execution_count": 10,
   "metadata": {},
   "outputs": [],
   "source": [
    "def NLL_cost_fn(theta):\n",
    "    J=NLL_cost(predict(X,theta[:,np.newaxis]), Y)\n",
    "    return J"
   ]
  },
  {
   "cell_type": "code",
   "execution_count": 11,
   "metadata": {},
   "outputs": [],
   "source": [
    "def grad_cost_fn(theta):\n",
    "    g=grad_cost_func(X, Y, predict(X, theta[:,np.newaxis]))\n",
    "    g.shape=(g.shape[0],)\n",
    "    return g  "
   ]
  },
  {
   "cell_type": "code",
   "execution_count": 12,
   "metadata": {},
   "outputs": [
    {
     "name": "stdout",
     "output_type": "stream",
     "text": [
      "(21,)\n",
      "Optimization terminated successfully.\n",
      "         Current function value: 0.367923\n",
      "         Iterations: 238\n",
      "         Function evaluations: 242\n",
      "         Gradient evaluations: 242\n",
      "The optimal value of theta that minimize cost function is:  [   3.38837331   -6.43091438    8.48713959   97.37517801 -166.7451447\n",
      " -368.87786549  493.40908972  359.5602685  -150.66358126  197.87725257\n",
      " -697.86038147    4.88380033  -13.78344084   22.89636541   60.19542569\n",
      " -219.31757814    3.26741842  259.94987458 -238.15627218  338.97442134\n",
      " -225.42699604]\n",
      "Final error =  0.3679232970184992\n"
     ]
    }
   ],
   "source": [
    "# calculate optimal theta\n",
    "theta0=np.zeros((n,))\n",
    "print(theta0.shape)\n",
    "# Type your code here\n",
    "Thopt = fmin_bfgs(NLL_cost_fn, theta0, grad_cost_fn)\n",
    "print(\"The optimal value of theta that minimize cost function is: \", Thopt)\n",
    "print(\"Final error = \", NLL_cost_fn(Thopt))"
   ]
  },
  {
   "cell_type": "markdown",
   "metadata": {},
   "source": [
    "**Question 9: **\n",
    "- Use the optimal theta calculated to predict a microchip result (accepted or rejected) that has a score of 0.5 in test 1 and a score of -0.5 in test 2 and the acceptance probability."
   ]
  },
  {
   "cell_type": "code",
   "execution_count": 13,
   "metadata": {},
   "outputs": [],
   "source": [
    "# predit microchip result\n",
    "# Type your code here\n",
    "x1 = np.array([1, 0.5, -0.5])\n",
    "x1 = x1[:,np.newaxis]\n",
    "t = Thopt[:,np.newaxis]\n",
    "y1 = predict(x1, t.transpose())"
   ]
  },
  {
   "cell_type": "markdown",
   "metadata": {},
   "source": [
    "Let's visualize the decision boundaries."
   ]
  },
  {
   "cell_type": "code",
   "execution_count": 14,
   "metadata": {},
   "outputs": [
    {
     "data": {
      "text/plain": [
       "<matplotlib.legend.Legend at 0x2a9ed103e48>"
      ]
     },
     "execution_count": 14,
     "metadata": {},
     "output_type": "execute_result"
    },
    {
     "data": {
      "image/png": "[encoded data removed]",
      "text/plain": [
       "<Figure size 648x360 with 1 Axes>"
      ]
     },
     "metadata": {
      "needs_background": "light"
     },
     "output_type": "display_data"
    }
   ],
   "source": [
    "# calculate the mesh grid for contour plot\n",
    "u1=np.linspace(-1,1.5,50)\n",
    "u2=np.linspace(-1,1.5,50)\n",
    "u1, u2 = np.meshgrid(u1, u2)\n",
    "\n",
    "X3=np.ones((*u1.shape,1))\n",
    "\n",
    "X3=Poly_Features(X3,u1[...,np.newaxis],u2[...,np.newaxis],degree,-1)\n",
    "    \n",
    "Z=np.dot(X3,Thopt)\n",
    "\n",
    "# plot descision boundries\n",
    "plt.figure(\"Microchip decision boundries\",figsize=(9,5))\n",
    "fail=plt.scatter(x_1[Y==0], x_2[Y==0],  color='red',label='fail')\n",
    "success=plt.scatter(x_1[Y==1], x_2[Y==1],  color='green',marker='+',s=80,label='success')\n",
    "plt.xlabel('Test 1 score')\n",
    "plt.ylabel('Test 2 score')\n",
    "plt.title('Accepted/Rejected Microchip')\n",
    "ctr = plt.contour(u1, u2, Z,0,colors=\"blue\")\n",
    "extra = Rectangle((0, 0), 3, 4, fc=\"w\", fill=False, edgecolor=\"b\", linewidth=1)\n",
    "plt.legend([extra,fail,success], (\"decision boundries\",\"fail\",\"success\"),loc='best')"
   ]
  },
  {
   "cell_type": "markdown",
   "metadata": {},
   "source": [
    " **Question 10: ** \n",
    " - Change the value of the variable \"degree\" and interpret the modification on the decision boundaries."
   ]
  },
  {
   "cell_type": "markdown",
   "metadata": {},
   "source": [
    "In the previous example we have change the degree from 4 to 10. By increasing the degree, we represent the boundary decision by a polynomial function of degree 10. Higher is the degree and better we are separating the 2 classes (fail and success). \n",
    "In this dataset we will have a very low error rate, however increasing too much the degree can *overfit* our model with this dataset. \n",
    "\n",
    "If we try on another test dataset with degree 10, we will get a very high error rate."
   ]
  },
  {
   "cell_type": "markdown",
   "metadata": {},
   "source": [
    "**Question 11: ** \n",
    "- Implement the \"Inter_Features\" function that concatenate to data array the different possible power (below deg) of feature vector f1 and f2 as shown below:$$data=[data,~f_1^i~f_2^j ~ where ~ i+j~<=~degree]$$\n",
    "**Hint:** You can use numpy [concatenate](https://docs.scipy.org/doc/numpy/reference/generated/numpy.concatenate.html) function (put two columns or array together)  with the parameter **axis=ax**.."
   ]
  },
  {
   "cell_type": "code",
   "execution_count": 15,
   "metadata": {},
   "outputs": [],
   "source": [
    "def Inter_Features(data,f1,f2,deg,ax):\n",
    "    # Integrate interaction terms (x_1^i*x_2^j where i+j<=degree)\n",
    "    # Type your code here\n",
    "    \n",
    "    for i in np.arange(1,deg+1,1):\n",
    "        for j in np.arange(1,deg+1,1):\n",
    "            if i+j <= deg:\n",
    "                f3 = (f1**i)*(f2**j)\n",
    "                data = np.concatenate((data, f3), axis=ax)\n",
    "    \n",
    "    return data"
   ]
  },
  {
   "cell_type": "markdown",
   "metadata": {},
   "source": [
    "**Question 12: ** \n",
    "- Use the implemented function \"Inter_Features\" to generate the array of features X.\n",
    "- Determine the number of features n."
   ]
  },
  {
   "cell_type": "code",
   "execution_count": 16,
   "metadata": {},
   "outputs": [],
   "source": [
    "degree=10 # degree of polynomial feature\n",
    "X=np.ones((m,1))   # initialize X array\n",
    "\n",
    "# add polynomial features to the array data X\n",
    "# Type your code here\n",
    "\n",
    "X = Inter_Features(X, x_1, x_2, degree, 1)\n",
    "\n",
    "\n",
    "n = X.shape[1]"
   ]
  },
  {
   "cell_type": "markdown",
   "metadata": {},
   "source": [
    "**Question 13: **\n",
    "- Call \"fmin_bfgs\" function to calculate the optimal theta. This function take as parameters: the name of cost function (\"NLL_cost_fn\"), the name of gradient cost function (\"grad_cost_fn\") and the initial theta (\"theta0\").\n",
    "- Print the optimal theta and the final error."
   ]
  },
  {
   "cell_type": "code",
   "execution_count": 17,
   "metadata": {},
   "outputs": [
    {
     "data": {
      "text/plain": [
       "'def NLL_cost_fn(theta):\\n    J=NLL_cost(predict(X,theta[:,np.newaxis]), Y)\\n    return J'"
      ]
     },
     "execution_count": 17,
     "metadata": {},
     "output_type": "execute_result"
    }
   ],
   "source": [
    "\"\"\"def NLL_cost_fn(theta):\n",
    "    J=NLL_cost(predict(X,theta[:,np.newaxis]), Y)\n",
    "    return J\"\"\""
   ]
  },
  {
   "cell_type": "code",
   "execution_count": 18,
   "metadata": {},
   "outputs": [
    {
     "data": {
      "text/plain": [
       "'def grad_cost_fn(theta):\\n    g=grad_cost_func(theta[:,np.newaxis], X, Y)\\n    g.shape=(g.shape[0],)\\n    return g  '"
      ]
     },
     "execution_count": 18,
     "metadata": {},
     "output_type": "execute_result"
    }
   ],
   "source": [
    "\"\"\"def grad_cost_fn(theta):\n",
    "    g=grad_cost_func(theta[:,np.newaxis], X, Y)\n",
    "    g.shape=(g.shape[0],)\n",
    "    return g  \"\"\""
   ]
  },
  {
   "cell_type": "code",
   "execution_count": 19,
   "metadata": {},
   "outputs": [
    {
     "name": "stdout",
     "output_type": "stream",
     "text": [
      "(46,)\n",
      "Optimization terminated successfully.\n",
      "         Current function value: 0.321562\n",
      "         Iterations: 508\n",
      "         Function evaluations: 514\n",
      "         Gradient evaluations: 514\n",
      "The optimal value of theta that minimize cost function is:  [ 6.75019607e-01 -6.45533562e+01 -1.82972597e+02  3.11108491e+02\n",
      "  9.24575825e+02 -1.10749774e+03 -6.04571162e+02  1.02815529e+03\n",
      " -1.47789939e+03  1.18819839e+03 -5.14304504e+01  1.65177036e+02\n",
      "  6.17697472e+02 -5.15845992e+02 -5.56750047e+02 -3.49438592e+02\n",
      "  2.58542336e+02  4.14690384e+02  4.10914781e+02  5.91491794e+02\n",
      " -1.40104177e+02 -6.61637823e+02 -7.34619237e+02  2.24459583e+02\n",
      " -2.62183723e+02  1.71115146e+02 -1.62801506e+02  2.54381096e+02\n",
      " -2.24977754e+02 -1.62483055e+03 -1.68941636e+03 -1.08531075e+03\n",
      "  6.63089316e+02 -1.20288172e+03 -6.29436859e+02 -4.26718829e+02\n",
      "  2.96225088e+02 -3.97250725e+02  1.08510494e+03  7.44306844e+02\n",
      "  6.28619671e+02 -3.61392204e+02 -5.73993739e+02 -8.38744717e+02\n",
      " -1.76709463e+03  5.83955930e+02]\n",
      "Final error =  [ 5.61834896e-06  2.88736966e-07 -5.91198263e-07  5.39002944e-07\n",
      "  1.61159149e-06  2.92507789e-06 -1.53832930e-06 -2.46234813e-06\n",
      "  1.48257697e-06  1.81115155e-06 -8.13692957e-07 -9.87360465e-07\n",
      "  5.18802894e-06  6.65133497e-07 -4.06994489e-06  7.65260104e-08\n",
      " -1.46435556e-06  1.98964319e-06  5.53884275e-07 -4.26146985e-08\n",
      " -6.01420825e-06  2.76656690e-06 -1.94776315e-06  1.92543922e-06\n",
      "  1.56906218e-06  2.35103304e-06 -9.54996838e-07 -1.03456959e-06\n",
      " -4.79658105e-08 -2.19808033e-06  1.16002015e-06 -2.27912984e-07\n",
      "  7.13277515e-07  1.50163483e-06  2.45446174e-06 -1.09862929e-06\n",
      "  1.21550296e-06 -1.46063363e-06 -3.73434553e-07 -6.56877605e-07\n",
      "  4.99827211e-07  3.38826889e-06  4.18542133e-06 -1.03208365e-06\n",
      " -1.39301124e-07 -9.75748717e-07]\n"
     ]
    }
   ],
   "source": [
    "# calculate optimal theta\n",
    "theta0=np.zeros((n,))\n",
    "print(theta0.shape)\n",
    "# Type your code here\n",
    "Thopt = fmin_bfgs(NLL_cost_fn, theta0, grad_cost_fn)\n",
    "print(\"The optimal value of theta that minimize cost function is: \", Thopt)\n",
    "print(\"Final error = \", grad_cost_fn(Thopt))"
   ]
  },
  {
   "cell_type": "markdown",
   "metadata": {},
   "source": [
    "Let's visualize the decision boundaries"
   ]
  },
  {
   "cell_type": "code",
   "execution_count": 20,
   "metadata": {},
   "outputs": [
    {
     "data": {
      "text/plain": [
       "<matplotlib.legend.Legend at 0x2a9ed183a90>"
      ]
     },
     "execution_count": 20,
     "metadata": {},
     "output_type": "execute_result"
    },
    {
     "data": {
      "image/png": "[encoded data removed]",
      "text/plain": [
       "<Figure size 648x360 with 1 Axes>"
      ]
     },
     "metadata": {
      "needs_background": "light"
     },
     "output_type": "display_data"
    }
   ],
   "source": [
    "# calculate the mesh grid for contour plot\n",
    "u1=np.linspace(-1,1.5,50)\n",
    "u2=np.linspace(-1,1.5,50)\n",
    "u1, u2 = np.meshgrid(u1, u2)\n",
    "\n",
    "X3=np.ones((*u1.shape,1))\n",
    "\n",
    "X3=Inter_Features(X3,u1[...,np.newaxis],u2[...,np.newaxis],degree,-1)\n",
    "\n",
    "Z=np.dot(X3,Thopt)\n",
    "\n",
    "# plot descision boundries\n",
    "plt.figure(\"Microchip decision boundries\",figsize=(9,5))\n",
    "fail=plt.scatter(x_1[Y==0], x_2[Y==0],  color='red',label='fail')\n",
    "success=plt.scatter(x_1[Y==1], x_2[Y==1],  color='green',marker='+',s=80,label='success')\n",
    "plt.xlabel('Test 1 score')\n",
    "plt.ylabel('Test 2 score')\n",
    "plt.title('Accepted/Rejected Microchip')\n",
    "ctr = plt.contour(u1, u2, Z,0,colors=\"blue\")\n",
    "extra = Rectangle((0, 0), 3, 4, fc=\"w\", fill=False, edgecolor=\"b\", linewidth=1)\n",
    "plt.legend([extra,fail,success], (\"decision boundries\",\"fail\",\"success\"),loc='best')"
   ]
  },
  {
   "cell_type": "markdown",
   "metadata": {},
   "source": [
    " **Question 14: ** \n",
    " - Change the value of the variable \"degree\" and interpret the modification on the decision boundaries."
   ]
  },
  {
   "cell_type": "markdown",
   "metadata": {},
   "source": [
    "Same observation as before. By increasing the degree we have a low error rate, but we are overfitting the data."
   ]
  },
  {
   "cell_type": "markdown",
   "metadata": {},
   "source": [
    "### Part 2: Data analysis using \"Titanic\" dataset\n",
    "\n",
    "In this part, you will work on \"Titanic\" database example (from the website [http://www.data-mania.com/](http://www.data-mania.com/)). This database contains different information about passengers of the sunk \"RMS Titanic\" ocean liner. The goal is to build classifier that predict if a passenger has survived or not the catastrophe based on the passenger age, sex, ticket fare ...\n",
    "\n",
    "The \"Titanic database lack some information of some passengers. In the other hand, it has some unusable information for survivability prediction like ticket or cabin number. Hence, in the first part you are invited to process the training data by removing unnecessary information and filling the missing data.\n",
    "\n",
    "In the second part, you should train a logistic classifier using [**sklearn**](http://scikit-learn.org/stable/) library. Then, you can assess its accuracy with some [**metrics**](http://scikit-learn.org/stable/modules/classes.html#module-sklearn.metrics) of sklearn. "
   ]
  },
  {
   "cell_type": "code",
   "execution_count": 21,
   "metadata": {},
   "outputs": [],
   "source": [
    "# import libraries\n",
    "import pandas as pd\n",
    "import seaborn as sns\n",
    "\n",
    "from sklearn.linear_model import LogisticRegression\n",
    "from sklearn import metrics "
   ]
  },
  {
   "cell_type": "markdown",
   "metadata": {},
   "source": [
    "### Load and process dataset\n",
    "In this session, we will use new library for data structure and plotting. The [**pandas**](http://pandas.pydata.org/pandas-docs/stable/) library offer the possibility to store data in [DataFrame](https://pandas.pydata.org/pandas-docs/stable/generated/pandas.DataFrame.html) structure which is similar to classic 2-D array but it has labels for rows and columns and we can use these labels to index a specific component in the dataframe.  \n",
    "The [**seaborn**](https://seaborn.pydata.org/index.html) library helps us to generate meaningful statistical graphics by extending functionalities in matplotlib library.\n",
    "\n",
    "**Question 1: **\n",
    "- Load data from the given \"url\" in \"titanic\" variable.   \n",
    "**Hint:** You can use [read_csv](https://pandas.pydata.org/pandas-docs/stable/generated/pandas.read_csv.html) function from pandas library.\n",
    "- Explore the dataset using [pandas.shape](https://pandas.pydata.org/pandas-docs/stable/reference/api/pandas.DataFrame.shape.html), [pandas.columns](https://pandas.pydata.org/pandas-docs/stable/reference/api/pandas.DataFrame.columns.html), [pandas.info](https://pandas.pydata.org/pandas-docs/stable/reference/api/pandas.DataFrame.info.html), [pandas.head](https://pandas.pydata.org/pandas-docs/stable/reference/api/pandas.DataFrame.head.html)."
   ]
  },
  {
   "cell_type": "code",
   "execution_count": 22,
   "metadata": {},
   "outputs": [
    {
     "name": "stdout",
     "output_type": "stream",
     "text": [
      "The size of titanic dataset is:  (891, 12)\n",
      "Features name are:  Index(['PassengerId', 'Survived', 'Pclass', 'Name', 'Sex', 'Age', 'SibSp',\n",
      "       'Parch', 'Ticket', 'Fare', 'Cabin', 'Embarked'],\n",
      "      dtype='object')\n",
      "<class 'pandas.core.frame.DataFrame'>\n",
      "RangeIndex: 891 entries, 0 to 890\n",
      "Data columns (total 12 columns):\n",
      "PassengerId    891 non-null int64\n",
      "Survived       891 non-null int64\n",
      "Pclass         891 non-null int64\n",
      "Name           891 non-null object\n",
      "Sex            891 non-null object\n",
      "Age            714 non-null float64\n",
      "SibSp          891 non-null int64\n",
      "Parch          891 non-null int64\n",
      "Ticket         891 non-null object\n",
      "Fare           891 non-null float64\n",
      "Cabin          204 non-null object\n",
      "Embarked       889 non-null object\n",
      "dtypes: float64(2), int64(5), object(5)\n",
      "memory usage: 83.6+ KB\n",
      "\n",
      "Some information about the dataset: None\n",
      "\n",
      "How dataset looks like:    PassengerId  Survived  Pclass  \\\n",
      "0            1         0       3   \n",
      "1            2         1       1   \n",
      "2            3         1       3   \n",
      "3            4         1       1   \n",
      "4            5         0       3   \n",
      "\n",
      "                                                Name     Sex   Age  SibSp  \\\n",
      "0                            Braund, Mr. Owen Harris    male  22.0      1   \n",
      "1  Cumings, Mrs. John Bradley (Florence Briggs Th...  female  38.0      1   \n",
      "2                             Heikkinen, Miss. Laina  female  26.0      0   \n",
      "3       Futrelle, Mrs. Jacques Heath (Lily May Peel)  female  35.0      1   \n",
      "4                           Allen, Mr. William Henry    male  35.0      0   \n",
      "\n",
      "   Parch            Ticket     Fare Cabin Embarked  \n",
      "0      0         A/5 21171   7.2500   NaN        S  \n",
      "1      0          PC 17599  71.2833   C85        C  \n",
      "2      0  STON/O2. 3101282   7.9250   NaN        S  \n",
      "3      0            113803  53.1000  C123        S  \n",
      "4      0            373450   8.0500   NaN        S  \n"
     ]
    }
   ],
   "source": [
    "# load titanic dataset using the url below\n",
    "url = 'https://raw.githubusercontent.com/BigDataGal/Python-for-Data-Science/master/titanic-train.csv'\n",
    "# Type your code here\n",
    "titanic = pd.read_csv(url)\n",
    "\n",
    "# explore data\n",
    "# Type your code here\n",
    "print(\"The size of titanic dataset is: \",titanic.shape)\n",
    "print(\"Features name are: \", titanic.columns)\n",
    "\n",
    "print(\"\\nSome information about the dataset:\", titanic.info())\n",
    "print(\"\\nHow dataset looks like:\",  titanic.head())"
   ]
  },
  {
   "cell_type": "markdown",
   "metadata": {},
   "source": [
    "**Question 2: **\n",
    "- What is the number of samples (passengers) in each class (y=1:survived, y=0:did not survive).  \n",
    "**Hint:** You can index dataframe with boolean condition on \"Survived\" column. You can also use \"[where](https://pandas.pydata.org/pandas-docs/stable/generated/pandas.DataFrame.where.html)\" function from pandas library."
   ]
  },
  {
   "cell_type": "code",
   "execution_count": 23,
   "metadata": {},
   "outputs": [
    {
     "name": "stdout",
     "output_type": "stream",
     "text": [
      "The number of survived passenger in titanic dataset is:  342.0\n",
      "The number of died passenger in titanic dataset is:  549.0\n"
     ]
    }
   ],
   "source": [
    "# determine the number of survived/not survived to understand more dataset characteristics \n",
    "# Type your code here\n",
    "\n",
    "nbr_surviv = np.sum(titanic.Survived.where(titanic.Survived==1))\n",
    "nbr_died = titanic.shape[0]-nbr_surviv\n",
    "\n",
    "print(\"The number of survived passenger in titanic dataset is: \",nbr_surviv)\n",
    "print(\"The number of died passenger in titanic dataset is: \",nbr_died)"
   ]
  },
  {
   "cell_type": "markdown",
   "metadata": {},
   "source": [
    "#### Remove not significant features\n",
    "Some features in the \"titanic\" dataset are meaningless and they doesn't help to predict survivability. Thus, we should remove them.\n",
    "\n",
    "**Question 3: **\n",
    "- The \"Name\" and \"cabin\" number are two meaningless features and  there are two other features try to guess them. Then, remove all these 4 features from \"titanic\" dataframe.  \n",
    "**Hint:** You can use \"[drop](https://pandas.pydata.org/pandas-docs/stable/generated/pandas.DataFrame.drop.html)\" function from pandas library."
   ]
  },
  {
   "cell_type": "code",
   "execution_count": 24,
   "metadata": {},
   "outputs": [
    {
     "data": {
      "text/html": [
       "<div>\n",
       "<style scoped>\n",
       "    .dataframe tbody tr th:only-of-type {\n",
       "        vertical-align: middle;\n",
       "    }\n",
       "\n",
       "    .dataframe tbody tr th {\n",
       "        vertical-align: top;\n",
       "    }\n",
       "\n",
       "    .dataframe thead th {\n",
       "        text-align: right;\n",
       "    }\n",
       "</style>\n",
       "<table border=\"1\" class=\"dataframe\">\n",
       "  <thead>\n",
       "    <tr style=\"text-align: right;\">\n",
       "      <th></th>\n",
       "      <th>Survived</th>\n",
       "      <th>Pclass</th>\n",
       "      <th>Sex</th>\n",
       "      <th>Age</th>\n",
       "      <th>SibSp</th>\n",
       "      <th>Parch</th>\n",
       "      <th>Fare</th>\n",
       "      <th>Embarked</th>\n",
       "    </tr>\n",
       "  </thead>\n",
       "  <tbody>\n",
       "    <tr>\n",
       "      <th>0</th>\n",
       "      <td>0</td>\n",
       "      <td>3</td>\n",
       "      <td>male</td>\n",
       "      <td>22.0</td>\n",
       "      <td>1</td>\n",
       "      <td>0</td>\n",
       "      <td>7.2500</td>\n",
       "      <td>S</td>\n",
       "    </tr>\n",
       "    <tr>\n",
       "      <th>1</th>\n",
       "      <td>1</td>\n",
       "      <td>1</td>\n",
       "      <td>female</td>\n",
       "      <td>38.0</td>\n",
       "      <td>1</td>\n",
       "      <td>0</td>\n",
       "      <td>71.2833</td>\n",
       "      <td>C</td>\n",
       "    </tr>\n",
       "    <tr>\n",
       "      <th>2</th>\n",
       "      <td>1</td>\n",
       "      <td>3</td>\n",
       "      <td>female</td>\n",
       "      <td>26.0</td>\n",
       "      <td>0</td>\n",
       "      <td>0</td>\n",
       "      <td>7.9250</td>\n",
       "      <td>S</td>\n",
       "    </tr>\n",
       "    <tr>\n",
       "      <th>3</th>\n",
       "      <td>1</td>\n",
       "      <td>1</td>\n",
       "      <td>female</td>\n",
       "      <td>35.0</td>\n",
       "      <td>1</td>\n",
       "      <td>0</td>\n",
       "      <td>53.1000</td>\n",
       "      <td>S</td>\n",
       "    </tr>\n",
       "    <tr>\n",
       "      <th>4</th>\n",
       "      <td>0</td>\n",
       "      <td>3</td>\n",
       "      <td>male</td>\n",
       "      <td>35.0</td>\n",
       "      <td>0</td>\n",
       "      <td>0</td>\n",
       "      <td>8.0500</td>\n",
       "      <td>S</td>\n",
       "    </tr>\n",
       "  </tbody>\n",
       "</table>\n",
       "</div>"
      ],
      "text/plain": [
       "   Survived  Pclass     Sex   Age  SibSp  Parch     Fare Embarked\n",
       "0         0       3    male  22.0      1      0   7.2500        S\n",
       "1         1       1  female  38.0      1      0  71.2833        C\n",
       "2         1       3  female  26.0      0      0   7.9250        S\n",
       "3         1       1  female  35.0      1      0  53.1000        S\n",
       "4         0       3    male  35.0      0      0   8.0500        S"
      ]
     },
     "execution_count": 24,
     "metadata": {},
     "output_type": "execute_result"
    }
   ],
   "source": [
    "# remove non relevant features\n",
    "# Type your code here\n",
    "\n",
    "\n",
    "titanic.drop(['Name', 'Cabin', 'PassengerId','Ticket'],axis=1,inplace=True)\n",
    "titanic.head()"
   ]
  },
  {
   "cell_type": "markdown",
   "metadata": {},
   "source": [
    "#### Deal with missing values\n",
    "We note from the printed information about our dataset (with the command titanic.info()), that the \"Age\", \"Cabin\" and \"Embarked\" features have some missing values for some passengers. \n",
    "\n",
    "First, we will try to estimate missing \"Age\" from the passenger class \"Pclass\". If, we calculate the mean age of each class, we note that the 1st class passengers tend to be older than 3rd class manager. Hence, you should fill missing age values with the mean age of the corresponding passenger class."
   ]
  },
  {
   "cell_type": "code",
   "execution_count": 25,
   "metadata": {},
   "outputs": [
    {
     "data": {
      "image/png": "[encoded data removed]",
      "text/plain": [
       "<Figure size 432x288 with 1 Axes>"
      ]
     },
     "metadata": {},
     "output_type": "display_data"
    },
    {
     "data": {
      "text/html": [
       "<div>\n",
       "<style scoped>\n",
       "    .dataframe tbody tr th:only-of-type {\n",
       "        vertical-align: middle;\n",
       "    }\n",
       "\n",
       "    .dataframe tbody tr th {\n",
       "        vertical-align: top;\n",
       "    }\n",
       "\n",
       "    .dataframe thead th {\n",
       "        text-align: right;\n",
       "    }\n",
       "</style>\n",
       "<table border=\"1\" class=\"dataframe\">\n",
       "  <thead>\n",
       "    <tr style=\"text-align: right;\">\n",
       "      <th></th>\n",
       "      <th>Survived</th>\n",
       "      <th>Age</th>\n",
       "      <th>SibSp</th>\n",
       "      <th>Parch</th>\n",
       "      <th>Fare</th>\n",
       "    </tr>\n",
       "    <tr>\n",
       "      <th>Pclass</th>\n",
       "      <th></th>\n",
       "      <th></th>\n",
       "      <th></th>\n",
       "      <th></th>\n",
       "      <th></th>\n",
       "    </tr>\n",
       "  </thead>\n",
       "  <tbody>\n",
       "    <tr>\n",
       "      <th>1</th>\n",
       "      <td>0.629630</td>\n",
       "      <td>38.233441</td>\n",
       "      <td>0.416667</td>\n",
       "      <td>0.356481</td>\n",
       "      <td>84.154687</td>\n",
       "    </tr>\n",
       "    <tr>\n",
       "      <th>2</th>\n",
       "      <td>0.472826</td>\n",
       "      <td>29.877630</td>\n",
       "      <td>0.402174</td>\n",
       "      <td>0.380435</td>\n",
       "      <td>20.662183</td>\n",
       "    </tr>\n",
       "    <tr>\n",
       "      <th>3</th>\n",
       "      <td>0.242363</td>\n",
       "      <td>25.140620</td>\n",
       "      <td>0.615071</td>\n",
       "      <td>0.393075</td>\n",
       "      <td>13.675550</td>\n",
       "    </tr>\n",
       "  </tbody>\n",
       "</table>\n",
       "</div>"
      ],
      "text/plain": [
       "        Survived        Age     SibSp     Parch       Fare\n",
       "Pclass                                                    \n",
       "1       0.629630  38.233441  0.416667  0.356481  84.154687\n",
       "2       0.472826  29.877630  0.402174  0.380435  20.662183\n",
       "3       0.242363  25.140620  0.615071  0.393075  13.675550"
      ]
     },
     "execution_count": 25,
     "metadata": {},
     "output_type": "execute_result"
    }
   ],
   "source": [
    "%matplotlib inline\n",
    "\n",
    "# visualize Age box plot for each passenger class\n",
    "sns.set_style('whitegrid')\n",
    "sns.boxplot(x='Pclass', y='Age', data=titanic, palette='hls')\n",
    "plt.show()\n",
    "\n",
    "# calculate mean \"Age\" per \"Pclass\"\n",
    "titanic.groupby('Pclass').mean()"
   ]
  },
  {
   "cell_type": "markdown",
   "metadata": {},
   "source": [
    "**Question 4: **\n",
    "- Fill the \"approx_age\" list with the estimated age from the previous means table. Put the estimated age for 1st class in the beginning of the list and for 3rd class at the end. "
   ]
  },
  {
   "cell_type": "code",
   "execution_count": 26,
   "metadata": {},
   "outputs": [
    {
     "name": "stdout",
     "output_type": "stream",
     "text": [
      "The number of missing value per feature:\n",
      " Survived    0\n",
      "Pclass      0\n",
      "Sex         0\n",
      "Age         0\n",
      "SibSp       0\n",
      "Parch       0\n",
      "Fare        0\n",
      "Embarked    2\n",
      "dtype: int64\n",
      "38.233440860215055\n"
     ]
    }
   ],
   "source": [
    "# estimate missing Age\n",
    "# Type your code here\n",
    "approx_age = titanic.groupby('Pclass').mean().Age\n",
    "# replace null value by estimated \"Age\"\n",
    "null_age_idx=pd.isnull(titanic.Age)    # you can also use:  null_age_idx=pd.isnull(titanic['Age'])\n",
    "titanic.loc[null_age_idx,'Age']=[approx_age[i] for i in titanic.loc[null_age_idx,'Pclass']]\n",
    "    \n",
    "# verify the remaining number of missing value\n",
    "print(\"The number of missing value per feature:\\n\",titanic.isnull().sum())\n",
    "\n",
    "print(approx_age[1])"
   ]
  },
  {
   "cell_type": "markdown",
   "metadata": {},
   "source": [
    "- We note that there is two passengers that we don't know their embarking port. We can discard these two samples by dropping them.  \n",
    "**Hint:** We can use \"[dropna](https://pandas.pydata.org/pandas-docs/stable/generated/pandas.DataFrame.dropna.html)\" function from pandas library."
   ]
  },
  {
   "cell_type": "code",
   "execution_count": 27,
   "metadata": {},
   "outputs": [
    {
     "name": "stdout",
     "output_type": "stream",
     "text": [
      "The number of missing value per feature:\n",
      " Survived    0\n",
      "Pclass      0\n",
      "Sex         0\n",
      "Age         0\n",
      "SibSp       0\n",
      "Parch       0\n",
      "Fare        0\n",
      "Embarked    0\n",
      "dtype: int64\n"
     ]
    }
   ],
   "source": [
    "titanic=titanic.dropna()\n",
    "print(\"The number of missing value per feature:\\n\",titanic.isnull().sum())"
   ]
  },
  {
   "cell_type": "markdown",
   "metadata": {},
   "source": [
    "#### Insert dummies variable\n",
    "In the \"titanic\" dataset contains some qualitative features like \"Sex\" and \"Embarked\" port. In order to make the  useful in our computational model we should encode them with a numeric way with introducing order between \"Embarked\" categories for instance.  \n",
    "\n",
    "In our case, we will use dummies variable method which consist on creating new boolean variable for each categories and encode each categories with \"True\" on the corresponding dummy variable."
   ]
  },
  {
   "cell_type": "code",
   "execution_count": 28,
   "metadata": {},
   "outputs": [
    {
     "name": "stdout",
     "output_type": "stream",
     "text": [
      "Remplacement 'Sex' dummy variable:\n",
      "    male\n",
      "0     1\n",
      "1     0\n",
      "2     0\n",
      "3     0\n",
      "4     1\n",
      "Remplacement 'Embarked' dummies variables:\n",
      "    Q  S\n",
      "0  0  1\n",
      "1  0  0\n",
      "2  0  1\n",
      "3  0  1\n",
      "4  0  1\n"
     ]
    },
    {
     "data": {
      "text/html": [
       "<div>\n",
       "<style scoped>\n",
       "    .dataframe tbody tr th:only-of-type {\n",
       "        vertical-align: middle;\n",
       "    }\n",
       "\n",
       "    .dataframe tbody tr th {\n",
       "        vertical-align: top;\n",
       "    }\n",
       "\n",
       "    .dataframe thead th {\n",
       "        text-align: right;\n",
       "    }\n",
       "</style>\n",
       "<table border=\"1\" class=\"dataframe\">\n",
       "  <thead>\n",
       "    <tr style=\"text-align: right;\">\n",
       "      <th></th>\n",
       "      <th>Survived</th>\n",
       "      <th>Pclass</th>\n",
       "      <th>Age</th>\n",
       "      <th>SibSp</th>\n",
       "      <th>Parch</th>\n",
       "      <th>Fare</th>\n",
       "      <th>male</th>\n",
       "      <th>Q</th>\n",
       "      <th>S</th>\n",
       "    </tr>\n",
       "  </thead>\n",
       "  <tbody>\n",
       "    <tr>\n",
       "      <th>0</th>\n",
       "      <td>0</td>\n",
       "      <td>3</td>\n",
       "      <td>22.0</td>\n",
       "      <td>1</td>\n",
       "      <td>0</td>\n",
       "      <td>7.2500</td>\n",
       "      <td>1</td>\n",
       "      <td>0</td>\n",
       "      <td>1</td>\n",
       "    </tr>\n",
       "    <tr>\n",
       "      <th>1</th>\n",
       "      <td>1</td>\n",
       "      <td>1</td>\n",
       "      <td>38.0</td>\n",
       "      <td>1</td>\n",
       "      <td>0</td>\n",
       "      <td>71.2833</td>\n",
       "      <td>0</td>\n",
       "      <td>0</td>\n",
       "      <td>0</td>\n",
       "    </tr>\n",
       "    <tr>\n",
       "      <th>2</th>\n",
       "      <td>1</td>\n",
       "      <td>3</td>\n",
       "      <td>26.0</td>\n",
       "      <td>0</td>\n",
       "      <td>0</td>\n",
       "      <td>7.9250</td>\n",
       "      <td>0</td>\n",
       "      <td>0</td>\n",
       "      <td>1</td>\n",
       "    </tr>\n",
       "    <tr>\n",
       "      <th>3</th>\n",
       "      <td>1</td>\n",
       "      <td>1</td>\n",
       "      <td>35.0</td>\n",
       "      <td>1</td>\n",
       "      <td>0</td>\n",
       "      <td>53.1000</td>\n",
       "      <td>0</td>\n",
       "      <td>0</td>\n",
       "      <td>1</td>\n",
       "    </tr>\n",
       "    <tr>\n",
       "      <th>4</th>\n",
       "      <td>0</td>\n",
       "      <td>3</td>\n",
       "      <td>35.0</td>\n",
       "      <td>0</td>\n",
       "      <td>0</td>\n",
       "      <td>8.0500</td>\n",
       "      <td>1</td>\n",
       "      <td>0</td>\n",
       "      <td>1</td>\n",
       "    </tr>\n",
       "  </tbody>\n",
       "</table>\n",
       "</div>"
      ],
      "text/plain": [
       "   Survived  Pclass   Age  SibSp  Parch     Fare  male  Q  S\n",
       "0         0       3  22.0      1      0   7.2500     1  0  1\n",
       "1         1       1  38.0      1      0  71.2833     0  0  0\n",
       "2         1       3  26.0      0      0   7.9250     0  0  1\n",
       "3         1       1  35.0      1      0  53.1000     0  0  1\n",
       "4         0       3  35.0      0      0   8.0500     1  0  1"
      ]
     },
     "execution_count": 28,
     "metadata": {},
     "output_type": "execute_result"
    }
   ],
   "source": [
    "# create \"sex\" dummy variable\n",
    "sex = pd.get_dummies(titanic['Sex'],drop_first=True)\n",
    "print(\"Remplacement 'Sex' dummy variable:\\n\",sex.head())\n",
    "\n",
    "# create \"embark_port\" dummies variables\n",
    "embark_port = pd.get_dummies(titanic['Embarked'],drop_first=True)\n",
    "print(\"Remplacement 'Embarked' dummies variables:\\n\",embark_port.head())\n",
    "\n",
    "# remove qualitative features\n",
    "titanic.drop(['Sex', 'Embarked'],axis=1,inplace=True)\n",
    "\n",
    "# insert new dummies variables to replace qualitative features\n",
    "titanic_dmy = pd.concat([titanic,sex,embark_port],axis=1)\n",
    "titanic_dmy.head()"
   ]
  },
  {
   "cell_type": "markdown",
   "metadata": {},
   "source": [
    "#### Study correlation between feature\n",
    "\n",
    "Execute the following code block to visualize the  correlation matrix of our processed dataset."
   ]
  },
  {
   "cell_type": "code",
   "execution_count": 29,
   "metadata": {},
   "outputs": [
    {
     "data": {
      "text/plain": [
       "<matplotlib.axes._subplots.AxesSubplot at 0x2a9effa6470>"
      ]
     },
     "execution_count": 29,
     "metadata": {},
     "output_type": "execute_result"
    },
    {
     "data": {
      "image/png": "[encoded data removed]",
      "text/plain": [
       "<Figure size 432x288 with 2 Axes>"
      ]
     },
     "metadata": {},
     "output_type": "display_data"
    }
   ],
   "source": [
    "# correlation matrix\n",
    "sns.heatmap(titanic_dmy.corr(),cmap=cm.coolwarm,annot=True, fmt=\".2f\")"
   ]
  },
  {
   "cell_type": "markdown",
   "metadata": {},
   "source": [
    "From the correlation matrix, We note that passenger \"Pclass\" and ticket \"Fare\" features are correlated (correlation factor $> 0.5 $). Thus, we can keep only one of them. we will keep \"Pclass\" and remove \"Fare\" feature since it is less expressive.\n",
    "\n",
    "We note also that, \"Survived\" and \"male\" features are also correlated. This means that \"male\" feature can give high intuition about if the passenger had \"Survived\"."
   ]
  },
  {
   "cell_type": "code",
   "execution_count": 30,
   "metadata": {},
   "outputs": [
    {
     "name": "stdout",
     "output_type": "stream",
     "text": [
      "\n",
      "Information about the final dataset:\n",
      "<class 'pandas.core.frame.DataFrame'>\n",
      "Int64Index: 889 entries, 0 to 890\n",
      "Data columns (total 8 columns):\n",
      "Survived    889 non-null int64\n",
      "Pclass      889 non-null int64\n",
      "Age         889 non-null float64\n",
      "SibSp       889 non-null int64\n",
      "Parch       889 non-null int64\n",
      "male        889 non-null uint8\n",
      "Q           889 non-null uint8\n",
      "S           889 non-null uint8\n",
      "dtypes: float64(1), int64(4), uint8(3)\n",
      "memory usage: 44.3 KB\n"
     ]
    },
    {
     "data": {
      "text/html": [
       "<div>\n",
       "<style scoped>\n",
       "    .dataframe tbody tr th:only-of-type {\n",
       "        vertical-align: middle;\n",
       "    }\n",
       "\n",
       "    .dataframe tbody tr th {\n",
       "        vertical-align: top;\n",
       "    }\n",
       "\n",
       "    .dataframe thead th {\n",
       "        text-align: right;\n",
       "    }\n",
       "</style>\n",
       "<table border=\"1\" class=\"dataframe\">\n",
       "  <thead>\n",
       "    <tr style=\"text-align: right;\">\n",
       "      <th></th>\n",
       "      <th>Survived</th>\n",
       "      <th>Pclass</th>\n",
       "      <th>Age</th>\n",
       "      <th>SibSp</th>\n",
       "      <th>Parch</th>\n",
       "      <th>male</th>\n",
       "      <th>Q</th>\n",
       "      <th>S</th>\n",
       "    </tr>\n",
       "  </thead>\n",
       "  <tbody>\n",
       "    <tr>\n",
       "      <th>0</th>\n",
       "      <td>0</td>\n",
       "      <td>3</td>\n",
       "      <td>22.0</td>\n",
       "      <td>1</td>\n",
       "      <td>0</td>\n",
       "      <td>1</td>\n",
       "      <td>0</td>\n",
       "      <td>1</td>\n",
       "    </tr>\n",
       "    <tr>\n",
       "      <th>1</th>\n",
       "      <td>1</td>\n",
       "      <td>1</td>\n",
       "      <td>38.0</td>\n",
       "      <td>1</td>\n",
       "      <td>0</td>\n",
       "      <td>0</td>\n",
       "      <td>0</td>\n",
       "      <td>0</td>\n",
       "    </tr>\n",
       "    <tr>\n",
       "      <th>2</th>\n",
       "      <td>1</td>\n",
       "      <td>3</td>\n",
       "      <td>26.0</td>\n",
       "      <td>0</td>\n",
       "      <td>0</td>\n",
       "      <td>0</td>\n",
       "      <td>0</td>\n",
       "      <td>1</td>\n",
       "    </tr>\n",
       "    <tr>\n",
       "      <th>3</th>\n",
       "      <td>1</td>\n",
       "      <td>1</td>\n",
       "      <td>35.0</td>\n",
       "      <td>1</td>\n",
       "      <td>0</td>\n",
       "      <td>0</td>\n",
       "      <td>0</td>\n",
       "      <td>1</td>\n",
       "    </tr>\n",
       "    <tr>\n",
       "      <th>4</th>\n",
       "      <td>0</td>\n",
       "      <td>3</td>\n",
       "      <td>35.0</td>\n",
       "      <td>0</td>\n",
       "      <td>0</td>\n",
       "      <td>1</td>\n",
       "      <td>0</td>\n",
       "      <td>1</td>\n",
       "    </tr>\n",
       "  </tbody>\n",
       "</table>\n",
       "</div>"
      ],
      "text/plain": [
       "   Survived  Pclass   Age  SibSp  Parch  male  Q  S\n",
       "0         0       3  22.0      1      0     1  0  1\n",
       "1         1       1  38.0      1      0     0  0  0\n",
       "2         1       3  26.0      0      0     0  0  1\n",
       "3         1       1  35.0      1      0     0  0  1\n",
       "4         0       3  35.0      0      0     1  0  1"
      ]
     },
     "execution_count": 30,
     "metadata": {},
     "output_type": "execute_result"
    }
   ],
   "source": [
    "# correlated variable \"Fare\"\n",
    "titanic_dmy=titanic_dmy.drop(['Fare'],axis=1)\n",
    "\n",
    "# Visualize final dataset\n",
    "print(\"\\nInformation about the final dataset:\")\n",
    "titanic_dmy.info()\n",
    "\n",
    "titanic_dmy.head()"
   ]
  },
  {
   "cell_type": "markdown",
   "metadata": {},
   "source": [
    "### Train logistic classifier and predict\n",
    "**Question 5: **\n",
    "- Use \"[fit](http://scikit-learn.org/stable/modules/generated/sklearn.linear_model.LogisticRegression.html#sklearn.linear_model.LogisticRegression.fit)\" function to train the logistic model \"Logistic_Regr\"\n",
    "- Use \"[predict](http://scikit-learn.org/stable/modules/generated/sklearn.linear_model.LogisticRegression.html#sklearn.linear_model.LogisticRegression.predict)\" function to predict if passengers (X array) is survived or not.\n",
    "- calculate the accuracy (number of good prediction/number of all passengers) of the logistic model."
   ]
  },
  {
   "cell_type": "code",
   "execution_count": 31,
   "metadata": {},
   "outputs": [
    {
     "name": "stdout",
     "output_type": "stream",
     "text": [
      "     Survived  Pclass       Age  SibSp  Parch  male  Q  S\n",
      "0           0       3  22.00000      1      0     1  0  1\n",
      "1           1       1  38.00000      1      0     0  0  0\n",
      "2           1       3  26.00000      0      0     0  0  1\n",
      "3           1       1  35.00000      1      0     0  0  1\n",
      "4           0       3  35.00000      0      0     1  0  1\n",
      "5           0       3  25.14062      0      0     1  1  0\n",
      "6           0       1  54.00000      0      0     1  0  1\n",
      "7           0       3   2.00000      3      1     1  0  1\n",
      "8           1       3  27.00000      0      2     0  0  1\n",
      "9           1       2  14.00000      1      0     0  0  0\n",
      "10          1       3   4.00000      1      1     0  0  1\n",
      "11          1       1  58.00000      0      0     0  0  1\n",
      "12          0       3  20.00000      0      0     1  0  1\n",
      "13          0       3  39.00000      1      5     1  0  1\n",
      "14          0       3  14.00000      0      0     0  0  1\n",
      "15          1       2  55.00000      0      0     0  0  1\n",
      "16          0       3   2.00000      4      1     1  1  0\n",
      "17          1       2  29.87763      0      0     1  0  1\n",
      "18          0       3  31.00000      1      0     0  0  1\n",
      "19          1       3  25.14062      0      0     0  0  0\n",
      "20          0       2  35.00000      0      0     1  0  1\n",
      "21          1       2  34.00000      0      0     1  0  1\n",
      "22          1       3  15.00000      0      0     0  1  0\n",
      "23          1       1  28.00000      0      0     1  0  1\n",
      "24          0       3   8.00000      3      1     0  0  1\n",
      "25          1       3  38.00000      1      5     0  0  1\n",
      "26          0       3  25.14062      0      0     1  0  0\n",
      "27          0       1  19.00000      3      2     1  0  1\n",
      "28          1       3  25.14062      0      0     0  1  0\n",
      "29          0       3  25.14062      0      0     1  0  1\n",
      "..        ...     ...       ...    ...    ...   ... .. ..\n",
      "861         0       2  21.00000      1      0     1  0  1\n",
      "862         1       1  48.00000      0      0     0  0  1\n",
      "863         0       3  25.14062      8      2     0  0  1\n",
      "864         0       2  24.00000      0      0     1  0  1\n",
      "865         1       2  42.00000      0      0     0  0  1\n",
      "866         1       2  27.00000      1      0     0  0  0\n",
      "867         0       1  31.00000      0      0     1  0  1\n",
      "868         0       3  25.14062      0      0     1  0  1\n",
      "869         1       3   4.00000      1      1     1  0  1\n",
      "870         0       3  26.00000      0      0     1  0  1\n",
      "871         1       1  47.00000      1      1     0  0  1\n",
      "872         0       1  33.00000      0      0     1  0  1\n",
      "873         0       3  47.00000      0      0     1  0  1\n",
      "874         1       2  28.00000      1      0     0  0  0\n",
      "875         1       3  15.00000      0      0     0  0  0\n",
      "876         0       3  20.00000      0      0     1  0  1\n",
      "877         0       3  19.00000      0      0     1  0  1\n",
      "878         0       3  25.14062      0      0     1  0  1\n",
      "879         1       1  56.00000      0      1     0  0  0\n",
      "880         1       2  25.00000      0      1     0  0  1\n",
      "881         0       3  33.00000      0      0     1  0  1\n",
      "882         0       3  22.00000      0      0     0  0  1\n",
      "883         0       2  28.00000      0      0     1  0  1\n",
      "884         0       3  25.00000      0      0     1  0  1\n",
      "885         0       3  39.00000      0      5     0  1  0\n",
      "886         0       2  27.00000      0      0     1  0  1\n",
      "887         1       1  19.00000      0      0     0  0  1\n",
      "888         0       3  25.14062      1      2     0  0  1\n",
      "889         1       1  26.00000      0      0     1  0  0\n",
      "890         0       3  32.00000      0      0     1  1  0\n",
      "\n",
      "[889 rows x 8 columns]\n",
      "The accuracy of our logistic classifier is:  0.8053993250843644\n"
     ]
    },
    {
     "name": "stderr",
     "output_type": "stream",
     "text": [
      "d:\\Profiles\\cpov\\AppData\\Local\\Continuum\\anaconda3\\lib\\site-packages\\sklearn\\linear_model\\logistic.py:433: FutureWarning: Default solver will be changed to 'lbfgs' in 0.22. Specify a solver to silence this warning.\n",
      "  FutureWarning)\n"
     ]
    }
   ],
   "source": [
    "# extract feature and target columns\n",
    "X = titanic_dmy.iloc[:,1:8].values\n",
    "Y = titanic_dmy.iloc[:,0].values\n",
    "\n",
    "# train logistic classifier\n",
    "Logistic_Regr = LogisticRegression()\n",
    "Logistic_Regr.fit(X,Y)\n",
    "\n",
    "# Type your code here\n",
    "\n",
    "# predict survavibality\n",
    "# Type your code here\n",
    "#X =  titanic_dmy.iloc[:,:].values\n",
    "Yhat = Logistic_Regr.predict(X)\n",
    "print(titanic_dmy)\n",
    "# calculate accuracy\n",
    "# Type your code here\n",
    "accuracy = sum(Yhat==Y)/len(Y)\n",
    "print(\"The accuracy of our logistic classifier is: \", accuracy)"
   ]
  },
  {
   "cell_type": "code",
   "execution_count": null,
   "metadata": {},
   "outputs": [],
   "source": []
  },
  {
   "cell_type": "code",
   "execution_count": null,
   "metadata": {},
   "outputs": [],
   "source": []
  }
 ],
 "metadata": {
  "kernelspec": {
   "display_name": "Python 3",
   "language": "python",
   "name": "python3"
  },
  "language_info": {
   "codemirror_mode": {
    "name": "ipython",
    "version": 3
   },
   "file_extension": ".py",
   "mimetype": "text/x-python",
   "name": "python",
   "nbconvert_exporter": "python",
   "pygments_lexer": "ipython3",
   "version": "3.7.3"
  }
 },
 "nbformat": 4,
 "nbformat_minor": 2
}
