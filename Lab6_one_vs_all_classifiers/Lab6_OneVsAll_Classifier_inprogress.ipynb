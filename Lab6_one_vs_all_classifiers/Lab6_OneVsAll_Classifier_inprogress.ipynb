{
 "cells": [
  {
   "cell_type": "markdown",
   "metadata": {},
   "source": [
    "# Lab 6: One Vs All Regularized Classifier"
   ]
  },
  {
   "cell_type": "code",
   "execution_count": null,
   "metadata": {},
   "outputs": [],
   "source": []
  },
  {
   "cell_type": "markdown",
   "metadata": {},
   "source": [
    "For multiclass classification there is two main method \"One vs one classifier\" and \"One vs all classifier\" (called also \"\"One vs the rest). The first method train $\\frac{K\\times(K-1)}{2}$ classifiers for $K$ classes and it compare all classes between each other two by two. While, \"One vs All classifier\" compare each class with the $K-1$ remaining class together. Thus, we train only $K$ classifier. In this session, we will use \"One vs all\" approach to classify handwritten digits into 10 ($K=10$) classes with labels from 0 to 9."
   ]
  },
  {
   "cell_type": "markdown",
   "metadata": {},
   "source": [
    "## Preparation"
   ]
  },
  {
   "cell_type": "markdown",
   "metadata": {},
   "source": [
    "We'll need the following libraries:"
   ]
  },
  {
   "cell_type": "code",
   "execution_count": 1,
   "metadata": {},
   "outputs": [],
   "source": [
    "import numpy as np\n",
    "from sklearn.linear_model import LogisticRegression\n",
    "import matplotlib.pyplot as plt\n",
    "from skimage.transform import resize\n",
    "import matplotlib.image as mpimg\n",
    "from math import floor"
   ]
  },
  {
   "cell_type": "code",
   "execution_count": 2,
   "metadata": {},
   "outputs": [],
   "source": [
    "def Display_digits(X_display,Y_display):\n",
    "    \"\"\"\n",
    "    display digit image contained in X_display and print their labels contained in Y_display\n",
    "    \"\"\"\n",
    "    \n",
    "    # calculate number and size of patches fo each digit image\n",
    "    nbr_select=X_display.shape[0] # number of digits to display\n",
    "    origin_img_size=int(np.sqrt(X_display.shape[1]))\n",
    "    nbr_patch_horiz=int(np.floor(np.sqrt(nbr_select)))\n",
    "    nbr_patch_vertic=int(np.ceil(nbr_select/nbr_patch_horiz))\n",
    "    img_width=20\n",
    "    img_height=20\n",
    "    \n",
    "    # create Display_matrix that contains all image patches\n",
    "    Display_matrix=-np.ones((nbr_patch_vertic*(img_height+1)-1,nbr_patch_horiz*(img_width+1)-1))\n",
    "    for i in range(nbr_patch_vertic):\n",
    "        for j in range(nbr_patch_horiz):\n",
    "            if (i*nbr_patch_horiz+j>=nbr_select):\n",
    "                break\n",
    "            Display_matrix[i*(img_height+1):(i+1)*img_height+i,j*(img_width+1):(j+1)*img_width+j]=np.reshape(X_display[i*nbr_patch_horiz+j,np.arange(origin_img_size**2)%origin_img_size<img_height][:img_width*img_height],(img_height,img_width),order='F')\n",
    "    plt.figure('dataset',figsize=(max(3,nbr_patch_horiz),max(3,nbr_patch_vertic)))\n",
    "    plt.imshow(Display_matrix,cmap=\"gray\",vmax=1,vmin=-1)\n",
    "    plt.axis('off')\n",
    "    plt.show()\n",
    "    \n",
    "    # print digit labels\n",
    "    print(np.reshape(np.concatenate((Y_display[:,0].astype(int),-np.ones((nbr_patch_horiz*nbr_patch_vertic-nbr_select),dtype=int))),(nbr_patch_vertic,nbr_patch_horiz)))"
   ]
  },
  {
   "cell_type": "code",
   "execution_count": 3,
   "metadata": {},
   "outputs": [],
   "source": [
    "def predict_your_digits(filename,Logistic_Regr_List):\n",
    "    \"\"\"\n",
    "    Predict the written digit on the input image\n",
    "    \n",
    "    Args:\n",
    "        filename: input image filename\n",
    "        Logistic_Regr_List: list of K trained logistic classifiers\n",
    "    \n",
    "    Return:\n",
    "        predicted label for input image\n",
    "    \"\"\"\n",
    "    # read image file\n",
    "    img=mpimg.imread(filename)\n",
    "    img=np.mean(img,axis=-1)  # convert to grayscale image\n",
    "    \n",
    "    # resize the image\n",
    "    height,width = img.shape\n",
    "    height_step = floor(height/20) \n",
    "    width_step = floor(width/20) \n",
    "    if(height_step>0) and (width_step>0):\n",
    "        img=img[::height_step,::width_step]\n",
    "    else:\n",
    "        img=resize(img,(20,20),order=1)\n",
    "        \n",
    "    # change the color scale from 0-255 integer to [-1,1] float\n",
    "    img=(img.T/128-1)\n",
    "    \n",
    "    # draw the digit image\n",
    "    #plt.figure('handwritten digit',figsize=(9,4))\n",
    "    plt.imshow(img.T,cmap=\"gray\",vmax=1,vmin=-1)\n",
    "    plt.axis('off')\n",
    "    plt.show()\n",
    "    \n",
    "    # predict the digit\n",
    "    prediction=Predict_OneVsAll(Logistic_Regr_List,img.flatten()[np.newaxis,:])\n",
    "    return prediction"
   ]
  },
  {
   "cell_type": "markdown",
   "metadata": {},
   "source": [
    "**Question 1: **\n",
    "- Load data from \"hand_writing.txt\" file in \"hand_writing\" variable and check its size. (use [loadtxt](https://docs.scipy.org/doc/numpy-1.13.0/reference/generated/numpy.loadtxt.html) function from numpy library)  \n",
    "This dataset contains 5000 of $20 \\times 20$ pixel images. These images are flatten and saved on single line of 400 pixels on our dataset. Each columns of the 400 of hand_writting dataset represent pixel intensity (a feature for our classifier).\n",
    "- Extract the number of samples, the features, the output and the number of features.\n",
    "- Determine the number of classes. You can use the [unique](https://docs.scipy.org/doc/numpy/reference/generated/numpy.unique.html) function of numpy."
   ]
  },
  {
   "cell_type": "code",
   "execution_count": 4,
   "metadata": {},
   "outputs": [
    {
     "data": {
      "text/plain": [
       "(5000, 401)"
      ]
     },
     "execution_count": 4,
     "metadata": {},
     "output_type": "execute_result"
    }
   ],
   "source": [
    "# load data\n",
    "# Type your code here\n",
    "hand_writing =  np.loadtxt(\"hand_writing.txt\")\n",
    "hand_writing.shape"
   ]
  },
  {
   "cell_type": "code",
   "execution_count": 5,
   "metadata": {},
   "outputs": [
    {
     "data": {
      "text/plain": [
       "array([ 0.000000e+00,  0.000000e+00,  0.000000e+00,  0.000000e+00,\n",
       "        0.000000e+00,  0.000000e+00,  0.000000e+00,  0.000000e+00,\n",
       "        0.000000e+00,  0.000000e+00,  0.000000e+00,  0.000000e+00,\n",
       "        0.000000e+00,  0.000000e+00,  0.000000e+00,  0.000000e+00,\n",
       "        0.000000e+00,  0.000000e+00,  0.000000e+00,  0.000000e+00,\n",
       "        0.000000e+00,  0.000000e+00,  0.000000e+00,  0.000000e+00,\n",
       "        0.000000e+00,  0.000000e+00,  0.000000e+00,  0.000000e+00,\n",
       "        0.000000e+00,  0.000000e+00,  0.000000e+00,  0.000000e+00,\n",
       "        0.000000e+00,  0.000000e+00,  0.000000e+00,  0.000000e+00,\n",
       "        0.000000e+00,  0.000000e+00,  0.000000e+00,  0.000000e+00,\n",
       "        0.000000e+00,  0.000000e+00,  0.000000e+00,  0.000000e+00,\n",
       "        0.000000e+00,  0.000000e+00,  0.000000e+00,  0.000000e+00,\n",
       "        0.000000e+00,  0.000000e+00,  0.000000e+00,  0.000000e+00,\n",
       "        0.000000e+00,  0.000000e+00,  0.000000e+00,  0.000000e+00,\n",
       "        0.000000e+00,  0.000000e+00,  0.000000e+00,  0.000000e+00,\n",
       "        0.000000e+00,  0.000000e+00,  0.000000e+00,  0.000000e+00,\n",
       "        0.000000e+00,  0.000000e+00,  0.000000e+00,  9.000000e-06,\n",
       "        2.000000e-06, -7.370000e-04, -8.134000e-03, -1.861000e-02,\n",
       "       -1.874100e-02, -1.875700e-02, -1.909600e-02, -1.640400e-02,\n",
       "       -3.782000e-03,  3.300000e-04,  1.300000e-05,  0.000000e+00,\n",
       "        0.000000e+00,  0.000000e+00,  0.000000e+00,  0.000000e+00,\n",
       "        0.000000e+00,  0.000000e+00,  1.160000e-04,  1.200000e-04,\n",
       "       -1.404400e-02, -2.845400e-02,  8.038300e-02,  2.665400e-01,\n",
       "        2.738540e-01,  2.787300e-01,  2.742940e-01,  2.246760e-01,\n",
       "        2.775600e-02, -7.063000e-03,  2.350000e-04,  0.000000e+00,\n",
       "        0.000000e+00,  0.000000e+00,  0.000000e+00,  0.000000e+00,\n",
       "        0.000000e+00,  0.000000e+00, -3.260000e-04, -1.386500e-02,\n",
       "        8.156500e-02,  3.828000e-01,  8.578500e-01,  1.001098e+00,\n",
       "        9.697110e-01,  9.309290e-01,  1.003838e+00,  9.641570e-01,\n",
       "        4.492570e-01, -5.604000e-03, -3.783000e-03,  0.000000e+00,\n",
       "        0.000000e+00,  0.000000e+00,  0.000000e+00,  5.000000e-06,\n",
       "        4.360000e-04, -3.955000e-03, -2.685400e-02,  1.007550e-01,\n",
       "        6.420320e-01,  1.031368e+00,  8.509690e-01,  5.431220e-01,\n",
       "        3.426000e-01,  2.689190e-01,  6.683750e-01,  1.012570e+00,\n",
       "        9.037960e-01,  1.044820e-01, -1.664300e-02,  0.000000e+00,\n",
       "        0.000000e+00,  0.000000e+00,  0.000000e+00,  2.600000e-05,\n",
       "       -3.106000e-03,  7.525000e-03,  1.775400e-01,  7.928900e-01,\n",
       "        9.656270e-01,  4.631660e-01,  6.917200e-02, -3.641000e-03,\n",
       "       -4.121800e-02, -5.019000e-02,  1.561030e-01,  9.017630e-01,\n",
       "        1.047483e+00,  1.510550e-01, -2.160400e-02,  0.000000e+00,\n",
       "        0.000000e+00,  0.000000e+00,  5.900000e-05, -6.410000e-04,\n",
       "       -3.233100e-02,  2.782030e-01,  9.367200e-01,  1.043210e+00,\n",
       "        5.980030e-01, -3.594000e-03, -2.167500e-02, -4.810000e-03,\n",
       "        6.200000e-05, -1.237700e-02,  1.554770e-01,  9.148670e-01,\n",
       "        9.204010e-01,  1.091740e-01, -1.710600e-02,  0.000000e+00,\n",
       "        0.000000e+00,  1.560000e-04, -4.280000e-04, -2.514700e-02,\n",
       "        1.305330e-01,  7.816650e-01,  1.028366e+00,  7.571380e-01,\n",
       "        2.846670e-01,  4.869000e-03, -3.187000e-03,  0.000000e+00,\n",
       "        8.360000e-04, -3.707500e-02,  4.526440e-01,  1.031801e+00,\n",
       "        5.390280e-01, -2.437000e-03, -4.803000e-03,  0.000000e+00,\n",
       "        0.000000e+00, -7.040000e-04, -1.272600e-02,  1.617070e-01,\n",
       "        7.798650e-01,  1.036767e+00,  8.044900e-01,  1.605870e-01,\n",
       "       -1.381700e-02,  2.149000e-03, -2.130000e-04,  2.040000e-04,\n",
       "       -6.859000e-03,  4.320000e-04,  7.206810e-01,  8.481360e-01,\n",
       "        1.513830e-01, -2.284000e-02,  1.990000e-04,  0.000000e+00,\n",
       "        0.000000e+00, -9.404000e-03,  3.745200e-02,  6.943890e-01,\n",
       "        1.028448e+00,  1.016481e+00,  8.804880e-01,  3.921240e-01,\n",
       "       -1.741200e-02, -1.200000e-04,  5.600000e-05, -2.239000e-03,\n",
       "       -2.760700e-02,  3.686450e-01,  9.364110e-01,  4.590070e-01,\n",
       "       -4.247000e-02,  1.174000e-03,  1.900000e-05,  0.000000e+00,\n",
       "        0.000000e+00, -1.935100e-02,  1.300000e-01,  9.798220e-01,\n",
       "        9.418620e-01,  7.751480e-01,  8.736320e-01,  2.127780e-01,\n",
       "       -1.723500e-02,  0.000000e+00,  1.099000e-03, -2.617900e-02,\n",
       "        1.228730e-01,  8.308130e-01,  7.265020e-01,  5.244400e-02,\n",
       "       -6.190000e-03,  0.000000e+00,  0.000000e+00,  0.000000e+00,\n",
       "        0.000000e+00, -9.366000e-03,  3.683500e-02,  6.990790e-01,\n",
       "        1.002936e+00,  6.057040e-01,  3.272990e-01, -3.221000e-02,\n",
       "       -4.830500e-02, -4.340700e-02, -5.751500e-02,  9.556700e-02,\n",
       "        7.265130e-01,  6.953670e-01,  1.471140e-01, -1.200500e-02,\n",
       "       -3.030000e-04,  0.000000e+00,  0.000000e+00,  0.000000e+00,\n",
       "        0.000000e+00, -6.770000e-04, -6.514000e-03,  1.173390e-01,\n",
       "        4.219480e-01,  9.932110e-01,  8.820140e-01,  7.457590e-01,\n",
       "        7.238740e-01,  7.233420e-01,  7.200200e-01,  8.453250e-01,\n",
       "        8.318600e-01,  6.888300e-02, -2.777600e-02,  3.590000e-04,\n",
       "        7.100000e-05,  0.000000e+00,  0.000000e+00,  0.000000e+00,\n",
       "        0.000000e+00,  1.530000e-04,  3.170000e-04, -2.291700e-02,\n",
       "       -4.144000e-03,  3.870380e-01,  5.045830e-01,  7.748860e-01,\n",
       "        9.900370e-01,  1.007695e+00,  1.008514e+00,  7.379050e-01,\n",
       "        2.154550e-01, -2.696200e-02,  1.325000e-03,  0.000000e+00,\n",
       "        0.000000e+00,  0.000000e+00,  0.000000e+00,  0.000000e+00,\n",
       "        0.000000e+00,  0.000000e+00,  0.000000e+00,  2.360000e-04,\n",
       "       -2.260000e-03, -2.519900e-02, -3.738900e-02,  6.621200e-02,\n",
       "        2.911350e-01,  3.230560e-01,  3.062600e-01,  8.760700e-02,\n",
       "       -2.505800e-02,  2.370000e-04,  0.000000e+00,  0.000000e+00,\n",
       "        0.000000e+00,  0.000000e+00,  0.000000e+00,  0.000000e+00,\n",
       "        0.000000e+00,  0.000000e+00,  0.000000e+00,  0.000000e+00,\n",
       "        0.000000e+00,  0.000000e+00,  6.730000e-04, -1.131500e-02,\n",
       "       -3.546400e-02, -3.882100e-02, -3.710800e-02, -1.335200e-02,\n",
       "        9.910000e-04,  4.900000e-05,  0.000000e+00,  0.000000e+00,\n",
       "        0.000000e+00,  0.000000e+00,  0.000000e+00,  0.000000e+00,\n",
       "        0.000000e+00,  0.000000e+00,  0.000000e+00,  0.000000e+00,\n",
       "        0.000000e+00,  0.000000e+00,  0.000000e+00,  0.000000e+00,\n",
       "        0.000000e+00,  0.000000e+00,  0.000000e+00,  0.000000e+00,\n",
       "        0.000000e+00,  0.000000e+00,  0.000000e+00,  0.000000e+00,\n",
       "        0.000000e+00,  0.000000e+00,  0.000000e+00,  0.000000e+00,\n",
       "        0.000000e+00,  0.000000e+00,  0.000000e+00,  0.000000e+00,\n",
       "        0.000000e+00,  0.000000e+00,  0.000000e+00,  0.000000e+00,\n",
       "        0.000000e+00,  0.000000e+00,  0.000000e+00,  0.000000e+00,\n",
       "        0.000000e+00,  0.000000e+00,  0.000000e+00,  0.000000e+00,\n",
       "        0.000000e+00,  0.000000e+00,  0.000000e+00,  0.000000e+00,\n",
       "        0.000000e+00])"
      ]
     },
     "execution_count": 5,
     "metadata": {},
     "output_type": "execute_result"
    }
   ],
   "source": [
    "hand_writing[0]"
   ]
  },
  {
   "cell_type": "code",
   "execution_count": 6,
   "metadata": {},
   "outputs": [
    {
     "data": {
      "text/plain": [
       "(401,)"
      ]
     },
     "execution_count": 6,
     "metadata": {},
     "output_type": "execute_result"
    }
   ],
   "source": [
    "hand_writing[0].shape"
   ]
  },
  {
   "cell_type": "code",
   "execution_count": 7,
   "metadata": {},
   "outputs": [
    {
     "data": {
      "text/plain": [
       "-0.057515"
      ]
     },
     "execution_count": 7,
     "metadata": {},
     "output_type": "execute_result"
    }
   ],
   "source": [
    "hand_writing[0].min()"
   ]
  },
  {
   "cell_type": "code",
   "execution_count": 8,
   "metadata": {},
   "outputs": [
    {
     "data": {
      "text/plain": [
       "1.063432"
      ]
     },
     "execution_count": 8,
     "metadata": {},
     "output_type": "execute_result"
    }
   ],
   "source": [
    "hand_writing[1].max()"
   ]
  },
  {
   "cell_type": "code",
   "execution_count": 9,
   "metadata": {},
   "outputs": [],
   "source": [
    "# Type your code here\n",
    "m = hand_writing.shape [0]      # number of samples/images in hand_writing dataset = 5000\n",
    "X = hand_writing[:,:-1]  \n",
    "Y = hand_writing[:,-1,np.newaxis]\n",
    "n = X.shape[1]         # number of features (number of pixel per image)\n",
    "nbr_class = np.unique(Y)        # number of classes K\n",
    "#nbr_class = np.unique(Y).shape[0]        # number of classes K\n"
   ]
  },
  {
   "cell_type": "code",
   "execution_count": 10,
   "metadata": {},
   "outputs": [
    {
     "data": {
      "text/plain": [
       "array([0., 1., 2., 3., 4., 5., 6., 7., 8., 9.])"
      ]
     },
     "execution_count": 10,
     "metadata": {},
     "output_type": "execute_result"
    }
   ],
   "source": [
    "nbr_class"
   ]
  },
  {
   "cell_type": "markdown",
   "metadata": {},
   "source": [
    " <font color=\"blue\">Comments : \n",
    "- X : For each line we take all the columns except the last one (Y, to predict)\n",
    "- Y : For each line we take only the last column"
   ]
  },
  {
   "cell_type": "code",
   "execution_count": 11,
   "metadata": {},
   "outputs": [
    {
     "data": {
      "text/plain": [
       "array([0., 1., 2., 3., 4., 5., 6., 7., 8., 9.])"
      ]
     },
     "execution_count": 11,
     "metadata": {},
     "output_type": "execute_result"
    }
   ],
   "source": [
    "nbr_class"
   ]
  },
  {
   "cell_type": "code",
   "execution_count": 12,
   "metadata": {},
   "outputs": [
    {
     "data": {
      "text/plain": [
       "array([0., 1., 2., 3., 4., 5., 6., 7., 8., 9.])"
      ]
     },
     "execution_count": 12,
     "metadata": {},
     "output_type": "execute_result"
    }
   ],
   "source": [
    " np.unique(Y)"
   ]
  },
  {
   "cell_type": "code",
   "execution_count": 13,
   "metadata": {},
   "outputs": [
    {
     "data": {
      "text/plain": [
       "(400, array([[0.],\n",
       "        [0.],\n",
       "        [0.],\n",
       "        ...,\n",
       "        [9.],\n",
       "        [9.],\n",
       "        [9.]]))"
      ]
     },
     "execution_count": 13,
     "metadata": {},
     "output_type": "execute_result"
    }
   ],
   "source": [
    "n, Y"
   ]
  },
  {
   "cell_type": "code",
   "execution_count": 14,
   "metadata": {},
   "outputs": [
    {
     "data": {
      "text/plain": [
       "array([[0., 0., 0., ..., 0., 0., 0.],\n",
       "       [0., 0., 0., ..., 0., 0., 0.],\n",
       "       [0., 0., 0., ..., 0., 0., 0.],\n",
       "       ...,\n",
       "       [0., 0., 0., ..., 0., 0., 0.],\n",
       "       [0., 0., 0., ..., 0., 0., 0.],\n",
       "       [0., 0., 0., ..., 0., 0., 0.]])"
      ]
     },
     "execution_count": 14,
     "metadata": {},
     "output_type": "execute_result"
    }
   ],
   "source": [
    "X"
   ]
  },
  {
   "cell_type": "markdown",
   "metadata": {},
   "source": [
    " <font color=\"blue\">Note : \n",
    " - m : nb of samples = 5000\n",
    " - X : for all samples/images, each columns of the 400 of hand_writting dataset represent pixel intensity (a feature for our classifier) => features\n",
    " - Y : output : the \"real number\" represented by the image, the \"real\" class to which the sample belongs to\n",
    " - n : number of features = 400 (400 columns/pixels)\n",
    " - nbr_class : number of classes (each image can represents either number 0,1,2,3,4,5,6,7,8 or 9) = 10 classes"
   ]
  },
  {
   "cell_type": "markdown",
   "metadata": {},
   "source": [
    "Let's visualize some digits from the hand_writing dataset"
   ]
  },
  {
   "cell_type": "code",
   "execution_count": 15,
   "metadata": {},
   "outputs": [
    {
     "data": {
      "image/png": "[encoded data removed]",
      "text/plain": [
       "<Figure size 720x720 with 1 Axes>"
      ]
     },
     "metadata": {
      "needs_background": "light"
     },
     "output_type": "display_data"
    },
    {
     "name": "stdout",
     "output_type": "stream",
     "text": [
      "[[5 0 3 5 3 7 4 8 1 8]\n",
      " [7 3 0 1 3 4 6 0 1 2]\n",
      " [0 4 1 4 5 3 2 2 1 4]\n",
      " [7 2 4 2 5 6 4 8 0 2]\n",
      " [6 1 0 6 5 8 4 3 3 3]\n",
      " [7 1 3 9 7 6 3 0 4 8]\n",
      " [4 5 8 3 6 0 5 2 4 1]\n",
      " [1 7 2 7 9 1 9 5 2 1]\n",
      " [9 0 0 7 7 3 9 1 7 0]\n",
      " [1 3 5 1 1 6 1 9 9 9]]\n"
     ]
    }
   ],
   "source": [
    "# visualize some digits from hand_writing dataset\n",
    "nbr_select=100\n",
    "rand_perm=np.random.permutation(m)\n",
    "X_display=X[rand_perm[:nbr_select],:]\n",
    "Display_digits(X_display,Y[rand_perm[:nbr_select],:])"
   ]
  },
  {
   "cell_type": "markdown",
   "metadata": {},
   "source": [
    "**Question 2: **\n",
    "- Determine the number of classes. You can use the [unique](https://docs.scipy.org/doc/numpy/reference/generated/numpy.unique.html) function of numpy.\n",
    "- Create a vector y composed of ones when Y = digit and zeros when Y <> digit.\n",
    "- Use  [fit](http://scikit-learn.org/stable/modules/generated/sklearn.linear_model.LogisticRegression.html#sklearn.linear_model.LogisticRegression.fit) function of [LogisticRegression](http://scikit-learn.org/stable/modules/generated/sklearn.linear_model.LogisticRegression.html) sklearn class to train \"logistic_regr\" K classifiers with \"X\" and \"y\" input vectors.  \n",
    "**Hint:** Don't forgot to define the regularization parameter C predefined in [LogisticRegression](http://scikit-learn.org/stable/modules/generated/sklearn.linear_model.LogisticRegression.html) class where $C=\\frac{1}{\\lambda}$"
   ]
  },
  {
   "cell_type": "code",
   "execution_count": 16,
   "metadata": {},
   "outputs": [],
   "source": [
    "# one vs all train function\n",
    "def Train_OneVsAll(X,Y,lambda_):\n",
    "    \"\"\"\n",
    "    Train K logitic classifiers for multiclass classification with  One vs All approach\n",
    "    \n",
    "    Args:\n",
    "        X: input digit images\n",
    "        Y: labels of the digit images\n",
    "        lambda_: Regularization parameter\n",
    "    \n",
    "    Return:\n",
    "        Logistic_Regr_List: list of K logistic classifier one per class\n",
    "    \"\"\"\n",
    "    # Determine the number of the classes \n",
    "    # type your code here\n",
    "    K= np.unique(Y).shape[0]\n",
    "    #print(K)\n",
    "    \n",
    "    Logistic_Regr_List=[]\n",
    "    \n",
    "    for digit in range(K):\n",
    "        # Create a vector y composed of ones when Y = digit and zeros when Y <> digit\n",
    "        # type your code here\n",
    "        \n",
    "        regularization_param = LogisticRegression(C=1/lambda_)\n",
    "        \n",
    "        #y= [1 if output == digit else 0 for output in Y]\n",
    "        #print(y)\n",
    "        y = np.zeros(Y.shape[0])\n",
    "        y[Y[:,0]==digit] = 1\n",
    "        \n",
    "        #y = np.asarray(y)\n",
    "        y=y.reshape((y.shape[0],))\n",
    "        \n",
    "        # create logistic regression classifier object\n",
    "        # type your code here   \n",
    "        logistic_regr= regularization_param.fit(X,y)\n",
    "        \n",
    "        # train logistic regression classifier object\n",
    "        # type your code here\n",
    "                                   \n",
    "        \n",
    "        Logistic_Regr_List.append(logistic_regr)      # append the trained logistic classifier to the output list\n",
    "    return Logistic_Regr_List\n",
    "\n",
    "\n",
    "# one vs all train function\n",
    "def Train_OneVsAll2(X,Y,lambda_):\n",
    "    \"\"\"\n",
    "    Train K logitic classifiers for multiclass classification with  One vs All approach\n",
    "\n",
    "    Args:\n",
    "        X: input digit images\n",
    "        Y: labels of the digit images\n",
    "        lambda_: Regularization parameter\n",
    "    \n",
    "    Return:\n",
    "        Logistic_Regr_List: list of K logistic classifier one per class\n",
    "    \"\"\"\n",
    "    # Determine the number of the classes \n",
    "    # type your code here\n",
    "    K=len(nbr_class)\n",
    "    \n",
    "    Logistic_Regr_List=[]\n",
    "    \n",
    "    for digit in range(K):\n",
    "        # Create a vector y composed of ones when Y = digit and zeros when Y <> digit\n",
    "        # type your code here\n",
    "        reg = LogisticRegression(C=1/lambda_)\n",
    "        y = np.zeros(Y.shape[0])\n",
    "        y[Y[:,0]==digit] = 1\n",
    "        y=y.reshape((y.shape[0],))\n",
    "        # create logistic regression classifier object\n",
    "        # type your code here   \n",
    "        logistic_regr=reg.fit(X, y)\n",
    "        \n",
    "        # train logistic regression classifier object\n",
    "        # type your code here\n",
    "                                   \n",
    "        \n",
    "        Logistic_Regr_List.append(logistic_regr)      # append the trained logistic classifier to the output list\n",
    "\n",
    "    return Logistic_Regr_List"
   ]
  },
  {
   "cell_type": "markdown",
   "metadata": {},
   "source": [
    " <font color=\"blue\">Note :\n",
    "    For each classifier, we have a different y and the same regularization parameter.\n",
    "    For example, if Y = [0,2,3,0,1]\n",
    "    The y for the digit 0 is : y = [1,0,0,1,0]"
   ]
  },
  {
   "cell_type": "markdown",
   "metadata": {},
   "source": [
    "**Question 3: **\n",
    "- Use [predict_proba](http://scikit-learn.org/stable/modules/generated/sklearn.linear_model.LogisticRegression.html#sklearn.linear_model.LogisticRegression.predict_proba) function to predict probability of belonging to the corresponding classifier label.\n",
    "- Use [argmax](https://docs.scipy.org/doc/numpy/reference/generated/numpy.argmax.html) function from numpy library to predict label with max probability from the calculated probability matrix \"pred_proba\"."
   ]
  },
  {
   "cell_type": "code",
   "execution_count": 17,
   "metadata": {},
   "outputs": [],
   "source": [
    "# one vs all predition function\n",
    "def Predict_OneVsAll(classifier_list,X):\n",
    "    \"\"\"\n",
    "    Predict the labels of input images in 'X' array using the trained K logitic classifiers 'classifier_list' \n",
    "\n",
    "    Return:\n",
    "        y_pred: vector of predicted label for each input image\n",
    "    \"\"\"\n",
    "    # Determine the number of the classes \n",
    "    K = len(classifier_list)                \n",
    "    pred_proba=np.zeros((X.shape[0],K))     # array contains m line one for each input and K columns represent the probability to\n",
    "                                            # belong to the corresponding classifier label\n",
    "    \n",
    "    # calculate the probabilty for an input image to have as label the number of classifier 'digit' from 0 to K\n",
    "    for digit in range(K):\n",
    "        # type your code here\n",
    "        y = classifier_list[digit]\n",
    "        \n",
    "        pred_proba[:,digit]= y.predict_proba(X)[:,1]\n",
    "        \n",
    "    # type your code here\n",
    "    y_pred= np.argmax(pred_proba, axis=1)    \n",
    "    return y_pred\n",
    "\n",
    "\n",
    "# one vs all predition function\n",
    "def Predict_OneVsAll2(classifier_list,X):\n",
    "    \"\"\"\n",
    "    Predict the labels of input images in 'X' array using the trained K logitic classifiers 'classifier_list' \n",
    "\n",
    "    Return:\n",
    "        y_pred: vector of predicted label for each input image\n",
    "    \"\"\"\n",
    "    # Determine the number of the classes \n",
    "    K = len(classifier_list)     \n",
    "    pred_proba=np.zeros((X.shape[0],K))     # array contains m line one for each input and K columns represent the probability to\n",
    "                                            # belong to the corresponding classifier label\n",
    "    # calculate the probabilty for an input image to have as label the number of classifier 'digit' from 0 to K]\n",
    "    for digit in range(K):\n",
    "        reg = classifier_list[digit]\n",
    "        # type your code here\n",
    "        pred_proba[:,digit] = reg.predict_proba(X)[:,1]\n",
    "        # type your code here\n",
    "    y_pred = np.argmax(pred_proba, axis=1)\n",
    "    return y_pred"
   ]
  },
  {
   "cell_type": "markdown",
   "metadata": {},
   "source": [
    "**Question 4: ** \n",
    "- Call \"Train_OneVsAll\" to generate the logistic regression list.\n",
    "- Call \"Predict_OneVsAll\" function to predict classes \"y_pred\" of our dataset "
   ]
  },
  {
   "cell_type": "code",
   "execution_count": 18,
   "metadata": {},
   "outputs": [
    {
     "name": "stderr",
     "output_type": "stream",
     "text": [
      "d:\\Profiles\\cpov\\AppData\\Local\\Continuum\\anaconda3\\lib\\site-packages\\sklearn\\linear_model\\logistic.py:433: FutureWarning: Default solver will be changed to 'lbfgs' in 0.22. Specify a solver to silence this warning.\n",
      "  FutureWarning)\n",
      "d:\\Profiles\\cpov\\AppData\\Local\\Continuum\\anaconda3\\lib\\site-packages\\sklearn\\linear_model\\logistic.py:433: FutureWarning: Default solver will be changed to 'lbfgs' in 0.22. Specify a solver to silence this warning.\n",
      "  FutureWarning)\n",
      "d:\\Profiles\\cpov\\AppData\\Local\\Continuum\\anaconda3\\lib\\site-packages\\sklearn\\linear_model\\logistic.py:433: FutureWarning: Default solver will be changed to 'lbfgs' in 0.22. Specify a solver to silence this warning.\n",
      "  FutureWarning)\n",
      "d:\\Profiles\\cpov\\AppData\\Local\\Continuum\\anaconda3\\lib\\site-packages\\sklearn\\linear_model\\logistic.py:433: FutureWarning: Default solver will be changed to 'lbfgs' in 0.22. Specify a solver to silence this warning.\n",
      "  FutureWarning)\n",
      "d:\\Profiles\\cpov\\AppData\\Local\\Continuum\\anaconda3\\lib\\site-packages\\sklearn\\linear_model\\logistic.py:433: FutureWarning: Default solver will be changed to 'lbfgs' in 0.22. Specify a solver to silence this warning.\n",
      "  FutureWarning)\n",
      "d:\\Profiles\\cpov\\AppData\\Local\\Continuum\\anaconda3\\lib\\site-packages\\sklearn\\linear_model\\logistic.py:433: FutureWarning: Default solver will be changed to 'lbfgs' in 0.22. Specify a solver to silence this warning.\n",
      "  FutureWarning)\n",
      "d:\\Profiles\\cpov\\AppData\\Local\\Continuum\\anaconda3\\lib\\site-packages\\sklearn\\linear_model\\logistic.py:433: FutureWarning: Default solver will be changed to 'lbfgs' in 0.22. Specify a solver to silence this warning.\n",
      "  FutureWarning)\n",
      "d:\\Profiles\\cpov\\AppData\\Local\\Continuum\\anaconda3\\lib\\site-packages\\sklearn\\linear_model\\logistic.py:433: FutureWarning: Default solver will be changed to 'lbfgs' in 0.22. Specify a solver to silence this warning.\n",
      "  FutureWarning)\n",
      "d:\\Profiles\\cpov\\AppData\\Local\\Continuum\\anaconda3\\lib\\site-packages\\sklearn\\linear_model\\logistic.py:433: FutureWarning: Default solver will be changed to 'lbfgs' in 0.22. Specify a solver to silence this warning.\n",
      "  FutureWarning)\n",
      "d:\\Profiles\\cpov\\AppData\\Local\\Continuum\\anaconda3\\lib\\site-packages\\sklearn\\linear_model\\logistic.py:433: FutureWarning: Default solver will be changed to 'lbfgs' in 0.22. Specify a solver to silence this warning.\n",
      "  FutureWarning)\n"
     ]
    }
   ],
   "source": [
    "# train K logistic classifiers\n",
    "lambda_ = .1 # reguralization parameter\n",
    "# type your code here\n",
    "Logistic_Regr_List = Train_OneVsAll(X,Y,lambda_)  \n",
    "#predict class on training dataset\n",
    "# type your code here\n",
    "y_pred = Predict_OneVsAll(Logistic_Regr_List,X)   "
   ]
  },
  {
   "cell_type": "markdown",
   "metadata": {},
   "source": [
    "**Question 5: ** \n",
    "- Calculate the \"train_accuracy\". What do you notice?"
   ]
  },
  {
   "cell_type": "code",
   "execution_count": 19,
   "metadata": {},
   "outputs": [
    {
     "name": "stdout",
     "output_type": "stream",
     "text": [
      "train accuracy=  [96.5] %\n"
     ]
    }
   ],
   "source": [
    "# calculate train accuracy\n",
    "# type your code here\n",
    "train_accuracy =  sum(y_pred[:,np.newaxis]==Y)/len(Y)\n",
    "print(\"train accuracy= \",train_accuracy*100 ,\"%\")"
   ]
  },
  {
   "cell_type": "markdown",
   "metadata": {},
   "source": [
    " <font color=\"blue\">Note :\n",
    "    We have a very high train-accuracy. We have train our model very well for the training dataset."
   ]
  },
  {
   "cell_type": "markdown",
   "metadata": {},
   "source": [
    "**Question 6: **\n",
    "- Make your own digit images and call \"predict\" function from \"predict_your_digits\" module to see how well our trained classifier will behave on your handwritten digits.  \n",
    "**Hint:** You could use this online tool [https://www.youidraw.com/apps/painter/](https://www.youidraw.com/apps/painter/) to draw a digit image . It is recommended to make $400\\times400$ pixels image and to draw with a white pencil of size 50 on gray background."
   ]
  },
  {
   "cell_type": "code",
   "execution_count": 20,
   "metadata": {},
   "outputs": [
    {
     "data": {
      "image/png": "[encoded data removed]",
      "text/plain": [
       "<Figure size 432x288 with 1 Axes>"
      ]
     },
     "metadata": {
      "needs_background": "light"
     },
     "output_type": "display_data"
    },
    {
     "name": "stdout",
     "output_type": "stream",
     "text": [
      "the digit in the image is 1  our One Vs All classifier predict [3]\n"
     ]
    },
    {
     "data": {
      "image/png": "[encoded data removed]",
      "text/plain": [
       "<Figure size 432x288 with 1 Axes>"
      ]
     },
     "metadata": {
      "needs_background": "light"
     },
     "output_type": "display_data"
    },
    {
     "name": "stdout",
     "output_type": "stream",
     "text": [
      "the digit in the image is 2  our One Vs All classifier predict [3]\n"
     ]
    },
    {
     "data": {
      "image/png": "[encoded data removed]",
      "text/plain": [
       "<Figure size 432x288 with 1 Axes>"
      ]
     },
     "metadata": {
      "needs_background": "light"
     },
     "output_type": "display_data"
    },
    {
     "name": "stdout",
     "output_type": "stream",
     "text": [
      "the digit in the image is 3  our One Vs All classifier predict [3]\n"
     ]
    },
    {
     "data": {
      "image/png": "[encoded data removed]",
      "text/plain": [
       "<Figure size 432x288 with 1 Axes>"
      ]
     },
     "metadata": {
      "needs_background": "light"
     },
     "output_type": "display_data"
    },
    {
     "name": "stdout",
     "output_type": "stream",
     "text": [
      "the digit in the image is 4  our One Vs All classifier predict [2]\n"
     ]
    },
    {
     "data": {
      "image/png": "[encoded data removed]",
      "text/plain": [
       "<Figure size 432x288 with 1 Axes>"
      ]
     },
     "metadata": {
      "needs_background": "light"
     },
     "output_type": "display_data"
    },
    {
     "name": "stdout",
     "output_type": "stream",
     "text": [
      "the digit in the image is 5  our One Vs All classifier predict [2]\n"
     ]
    },
    {
     "data": {
      "image/png": "[encoded data removed]",
      "text/plain": [
       "<Figure size 432x288 with 1 Axes>"
      ]
     },
     "metadata": {
      "needs_background": "light"
     },
     "output_type": "display_data"
    },
    {
     "name": "stdout",
     "output_type": "stream",
     "text": [
      "the digit in the image is 6  our One Vs All classifier predict [3]\n"
     ]
    },
    {
     "data": {
      "image/png": "[encoded data removed]",
      "text/plain": [
       "<Figure size 432x288 with 1 Axes>"
      ]
     },
     "metadata": {
      "needs_background": "light"
     },
     "output_type": "display_data"
    },
    {
     "name": "stdout",
     "output_type": "stream",
     "text": [
      "the digit in the image is 7  our One Vs All classifier predict [3]\n"
     ]
    },
    {
     "data": {
      "image/png": "[encoded data removed]",
      "text/plain": [
       "<Figure size 432x288 with 1 Axes>"
      ]
     },
     "metadata": {
      "needs_background": "light"
     },
     "output_type": "display_data"
    },
    {
     "name": "stdout",
     "output_type": "stream",
     "text": [
      "the digit in the image is 8  our One Vs All classifier predict [3]\n"
     ]
    },
    {
     "data": {
      "image/png": "[encoded data removed]",
      "text/plain": [
       "<Figure size 432x288 with 1 Axes>"
      ]
     },
     "metadata": {
      "needs_background": "light"
     },
     "output_type": "display_data"
    },
    {
     "name": "stdout",
     "output_type": "stream",
     "text": [
      "the digit in the image is 9  our One Vs All classifier predict [3]\n"
     ]
    },
    {
     "data": {
      "image/png": "[encoded data removed]",
      "text/plain": [
       "<Figure size 432x288 with 1 Axes>"
      ]
     },
     "metadata": {
      "needs_background": "light"
     },
     "output_type": "display_data"
    },
    {
     "name": "stdout",
     "output_type": "stream",
     "text": [
      "the digit in the image is 10  our One Vs All classifier predict [3]\n"
     ]
    },
    {
     "data": {
      "image/png": "[encoded data removed]",
      "text/plain": [
       "<Figure size 432x288 with 1 Axes>"
      ]
     },
     "metadata": {
      "needs_background": "light"
     },
     "output_type": "display_data"
    },
    {
     "name": "stdout",
     "output_type": "stream",
     "text": [
      "the digit in the image is 11  our One Vs All classifier predict [3]\n"
     ]
    },
    {
     "data": {
      "image/png": "[encoded data removed]",
      "text/plain": [
       "<Figure size 432x288 with 1 Axes>"
      ]
     },
     "metadata": {
      "needs_background": "light"
     },
     "output_type": "display_data"
    },
    {
     "name": "stdout",
     "output_type": "stream",
     "text": [
      "the digit in the image is 12  our One Vs All classifier predict [3]\n"
     ]
    },
    {
     "data": {
      "image/png": "[encoded data removed]",
      "text/plain": [
       "<Figure size 432x288 with 1 Axes>"
      ]
     },
     "metadata": {
      "needs_background": "light"
     },
     "output_type": "display_data"
    },
    {
     "name": "stdout",
     "output_type": "stream",
     "text": [
      "the digit in the image is 13  our One Vs All classifier predict [3]\n"
     ]
    },
    {
     "data": {
      "image/png": "[encoded data removed]",
      "text/plain": [
       "<Figure size 432x288 with 1 Axes>"
      ]
     },
     "metadata": {
      "needs_background": "light"
     },
     "output_type": "display_data"
    },
    {
     "name": "stdout",
     "output_type": "stream",
     "text": [
      "the digit in the image is 14  our One Vs All classifier predict [3]\n"
     ]
    },
    {
     "data": {
      "image/png": "[encoded data removed]",
      "text/plain": [
       "<Figure size 432x288 with 1 Axes>"
      ]
     },
     "metadata": {
      "needs_background": "light"
     },
     "output_type": "display_data"
    },
    {
     "name": "stdout",
     "output_type": "stream",
     "text": [
      "the digit in the image is 15  our One Vs All classifier predict [3]\n"
     ]
    },
    {
     "data": {
      "image/png": "[encoded data removed]",
      "text/plain": [
       "<Figure size 432x288 with 1 Axes>"
      ]
     },
     "metadata": {
      "needs_background": "light"
     },
     "output_type": "display_data"
    },
    {
     "name": "stdout",
     "output_type": "stream",
     "text": [
      "the digit in the image is 16  our One Vs All classifier predict [2]\n"
     ]
    },
    {
     "data": {
      "image/png": "[encoded data removed]",
      "text/plain": [
       "<Figure size 432x288 with 1 Axes>"
      ]
     },
     "metadata": {
      "needs_background": "light"
     },
     "output_type": "display_data"
    },
    {
     "name": "stdout",
     "output_type": "stream",
     "text": [
      "the digit in the image is 17  our One Vs All classifier predict [3]\n"
     ]
    }
   ],
   "source": [
    "# test our multiclass classifier\n",
    "for c in range(1,18):\n",
    "    predict_digit=predict_your_digits(\"image_\"+str(c)+\".jpg\",Logistic_Regr_List)\n",
    "    print(\"the digit in the image is\",c,\" our One Vs All classifier predict\",predict_digit)"
   ]
  },
  {
   "cell_type": "markdown",
   "metadata": {},
   "source": [
    " <font color=\"blue\">Note :\n",
    "    We have a made 18 differents images to test our model, including samples with different number writing style ( for 2, 4, 9, 7 for example) and ambigus cases ( 9 that can be identified as 3, 7 that can be identified as 1)\n",
    "    \n",
    "We find out that even though we had a good train accuracy, our model doesn't workkwell with those new images. In fact, it can only identifies 2 and 3 correctly, but for the other samples, it identified them either as 2 or 3."
   ]
  },
  {
   "cell_type": "code",
   "execution_count": 21,
   "metadata": {},
   "outputs": [
    {
     "name": "stdout",
     "output_type": "stream",
     "text": [
      "[1, 0, 0, 0, 0, 0]\n",
      "[0, 1, 0, 0, 0, 0]\n",
      "[0, 0, 1, 0, 0, 0]\n",
      "[0, 0, 0, 1, 0, 0]\n",
      "[0, 0, 0, 0, 1, 0]\n"
     ]
    }
   ],
   "source": [
    "Y = [0,1,2,3,4,5]\n",
    "for digit in range(5):\n",
    "    l = [1 if output is digit else 0 for output in Y]\n",
    "    print(l)"
   ]
  },
  {
   "cell_type": "code",
   "execution_count": null,
   "metadata": {},
   "outputs": [],
   "source": []
  },
  {
   "cell_type": "code",
   "execution_count": null,
   "metadata": {},
   "outputs": [],
   "source": []
  },
  {
   "cell_type": "code",
   "execution_count": null,
   "metadata": {},
   "outputs": [],
   "source": []
  },
  {
   "cell_type": "code",
   "execution_count": null,
   "metadata": {},
   "outputs": [],
   "source": []
  },
  {
   "cell_type": "code",
   "execution_count": null,
   "metadata": {},
   "outputs": [],
   "source": []
  },
  {
   "cell_type": "code",
   "execution_count": null,
   "metadata": {},
   "outputs": [],
   "source": []
  },
  {
   "cell_type": "code",
   "execution_count": null,
   "metadata": {},
   "outputs": [],
   "source": []
  },
  {
   "cell_type": "code",
   "execution_count": null,
   "metadata": {},
   "outputs": [],
   "source": []
  },
  {
   "cell_type": "code",
   "execution_count": null,
   "metadata": {},
   "outputs": [],
   "source": [
    "\n"
   ]
  }
 ],
 "metadata": {
  "kernelspec": {
   "display_name": "Python 3",
   "language": "python",
   "name": "python3"
  },
  "language_info": {
   "codemirror_mode": {
    "name": "ipython",
    "version": 3
   },
   "file_extension": ".py",
   "mimetype": "text/x-python",
   "name": "python",
   "nbconvert_exporter": "python",
   "pygments_lexer": "ipython3",
   "version": "3.7.3"
  },
  "latex_envs": {
   "LaTeX_envs_menu_present": true,
   "autoclose": false,
   "autocomplete": true,
   "bibliofile": "biblio.bib",
   "cite_by": "apalike",
   "current_citInitial": 1,
   "eqLabelWithNumbers": true,
   "eqNumInitial": 1,
   "hotkeys": {
    "equation": "Ctrl-E",
    "itemize": "Ctrl-I"
   },
   "labels_anchors": false,
   "latex_user_defs": false,
   "report_style_numbering": false,
   "user_envs_cfg": false
  }
 },
 "nbformat": 4,
 "nbformat_minor": 2
}
